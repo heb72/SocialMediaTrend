{
 "cells": [
  {
   "cell_type": "code",
   "execution_count": 33,
   "metadata": {},
   "outputs": [],
   "source": [
    "import pandas as pd\n",
    "import numpy as np\n",
    "import matplotlib.pyplot as plt\n",
    "from sklearn.linear_model import LinearRegression\n",
    "from sklearn.linear_model import LogisticRegression\n",
    "from sklearn.model_selection import train_test_split"
   ]
  },
  {
   "cell_type": "code",
   "execution_count": 5,
   "metadata": {},
   "outputs": [],
   "source": [
    "#reddit = pd.read_csv('reddit.csv')\n",
    "#stocks = pd.read_csv('stock_quotes.csv')\n",
    "#twitter = pd.read_csv('Twiiter_Faang3.csv')\n",
    "x = pd.read_csv('FinalDataSet.csv')"
   ]
  },
  {
   "cell_type": "code",
   "execution_count": 6,
   "metadata": {},
   "outputs": [
    {
     "data": {
      "text/html": [
       "<div>\n",
       "<style scoped>\n",
       "    .dataframe tbody tr th:only-of-type {\n",
       "        vertical-align: middle;\n",
       "    }\n",
       "\n",
       "    .dataframe tbody tr th {\n",
       "        vertical-align: top;\n",
       "    }\n",
       "\n",
       "    .dataframe thead th {\n",
       "        text-align: right;\n",
       "    }\n",
       "</style>\n",
       "<table border=\"1\" class=\"dataframe\">\n",
       "  <thead>\n",
       "    <tr style=\"text-align: right;\">\n",
       "      <th></th>\n",
       "      <th>Unnamed: 0</th>\n",
       "      <th>Date</th>\n",
       "      <th>Reddit Post Count</th>\n",
       "      <th>Twitter Post Count</th>\n",
       "      <th>Company</th>\n",
       "      <th>Reddit Upvote Sum</th>\n",
       "      <th>Open</th>\n",
       "      <th>Close</th>\n",
       "      <th>Volume</th>\n",
       "    </tr>\n",
       "  </thead>\n",
       "  <tbody>\n",
       "    <tr>\n",
       "      <th>0</th>\n",
       "      <td>0</td>\n",
       "      <td>20-07-01</td>\n",
       "      <td>1</td>\n",
       "      <td>317034</td>\n",
       "      <td>FB</td>\n",
       "      <td>0</td>\n",
       "      <td>228.0</td>\n",
       "      <td>238.0</td>\n",
       "      <td>43399740</td>\n",
       "    </tr>\n",
       "    <tr>\n",
       "      <th>1</th>\n",
       "      <td>1</td>\n",
       "      <td>20-07-02</td>\n",
       "      <td>2</td>\n",
       "      <td>297197</td>\n",
       "      <td>FB</td>\n",
       "      <td>12</td>\n",
       "      <td>239.0</td>\n",
       "      <td>233.0</td>\n",
       "      <td>30633620</td>\n",
       "    </tr>\n",
       "    <tr>\n",
       "      <th>2</th>\n",
       "      <td>2</td>\n",
       "      <td>20-07-06</td>\n",
       "      <td>0</td>\n",
       "      <td>278204</td>\n",
       "      <td>FB</td>\n",
       "      <td>0</td>\n",
       "      <td>234.0</td>\n",
       "      <td>240.0</td>\n",
       "      <td>26206158</td>\n",
       "    </tr>\n",
       "    <tr>\n",
       "      <th>3</th>\n",
       "      <td>3</td>\n",
       "      <td>20-07-07</td>\n",
       "      <td>1</td>\n",
       "      <td>309570</td>\n",
       "      <td>FB</td>\n",
       "      <td>2</td>\n",
       "      <td>239.0</td>\n",
       "      <td>241.0</td>\n",
       "      <td>27887786</td>\n",
       "    </tr>\n",
       "    <tr>\n",
       "      <th>4</th>\n",
       "      <td>4</td>\n",
       "      <td>20-07-08</td>\n",
       "      <td>3</td>\n",
       "      <td>338002</td>\n",
       "      <td>FB</td>\n",
       "      <td>81</td>\n",
       "      <td>238.0</td>\n",
       "      <td>244.0</td>\n",
       "      <td>29791340</td>\n",
       "    </tr>\n",
       "    <tr>\n",
       "      <th>...</th>\n",
       "      <td>...</td>\n",
       "      <td>...</td>\n",
       "      <td>...</td>\n",
       "      <td>...</td>\n",
       "      <td>...</td>\n",
       "      <td>...</td>\n",
       "      <td>...</td>\n",
       "      <td>...</td>\n",
       "      <td>...</td>\n",
       "    </tr>\n",
       "    <tr>\n",
       "      <th>315</th>\n",
       "      <td>315</td>\n",
       "      <td>20-09-24</td>\n",
       "      <td>0</td>\n",
       "      <td>1282</td>\n",
       "      <td>GOOG</td>\n",
       "      <td>0</td>\n",
       "      <td>1411.0</td>\n",
       "      <td>1428.0</td>\n",
       "      <td>1450200</td>\n",
       "    </tr>\n",
       "    <tr>\n",
       "      <th>316</th>\n",
       "      <td>316</td>\n",
       "      <td>20-09-25</td>\n",
       "      <td>1</td>\n",
       "      <td>1261</td>\n",
       "      <td>GOOG</td>\n",
       "      <td>52</td>\n",
       "      <td>1433.0</td>\n",
       "      <td>1445.0</td>\n",
       "      <td>1323000</td>\n",
       "    </tr>\n",
       "    <tr>\n",
       "      <th>317</th>\n",
       "      <td>317</td>\n",
       "      <td>20-09-28</td>\n",
       "      <td>0</td>\n",
       "      <td>1241</td>\n",
       "      <td>GOOG</td>\n",
       "      <td>0</td>\n",
       "      <td>1474.0</td>\n",
       "      <td>1465.0</td>\n",
       "      <td>2007900</td>\n",
       "    </tr>\n",
       "    <tr>\n",
       "      <th>318</th>\n",
       "      <td>318</td>\n",
       "      <td>20-09-29</td>\n",
       "      <td>2</td>\n",
       "      <td>1822</td>\n",
       "      <td>GOOG</td>\n",
       "      <td>2083</td>\n",
       "      <td>1470.0</td>\n",
       "      <td>1469.0</td>\n",
       "      <td>978200</td>\n",
       "    </tr>\n",
       "    <tr>\n",
       "      <th>319</th>\n",
       "      <td>319</td>\n",
       "      <td>20-09-30</td>\n",
       "      <td>0</td>\n",
       "      <td>1255</td>\n",
       "      <td>GOOG</td>\n",
       "      <td>0</td>\n",
       "      <td>1467.0</td>\n",
       "      <td>1470.0</td>\n",
       "      <td>1700600</td>\n",
       "    </tr>\n",
       "  </tbody>\n",
       "</table>\n",
       "<p>320 rows × 9 columns</p>\n",
       "</div>"
      ],
      "text/plain": [
       "     Unnamed: 0      Date  Reddit Post Count  Twitter Post Count Company  \\\n",
       "0             0  20-07-01                  1              317034      FB   \n",
       "1             1  20-07-02                  2              297197      FB   \n",
       "2             2  20-07-06                  0              278204      FB   \n",
       "3             3  20-07-07                  1              309570      FB   \n",
       "4             4  20-07-08                  3              338002      FB   \n",
       "..          ...       ...                ...                 ...     ...   \n",
       "315         315  20-09-24                  0                1282    GOOG   \n",
       "316         316  20-09-25                  1                1261    GOOG   \n",
       "317         317  20-09-28                  0                1241    GOOG   \n",
       "318         318  20-09-29                  2                1822    GOOG   \n",
       "319         319  20-09-30                  0                1255    GOOG   \n",
       "\n",
       "     Reddit Upvote Sum    Open   Close    Volume  \n",
       "0                    0   228.0   238.0  43399740  \n",
       "1                   12   239.0   233.0  30633620  \n",
       "2                    0   234.0   240.0  26206158  \n",
       "3                    2   239.0   241.0  27887786  \n",
       "4                   81   238.0   244.0  29791340  \n",
       "..                 ...     ...     ...       ...  \n",
       "315                  0  1411.0  1428.0   1450200  \n",
       "316                 52  1433.0  1445.0   1323000  \n",
       "317                  0  1474.0  1465.0   2007900  \n",
       "318               2083  1470.0  1469.0    978200  \n",
       "319                  0  1467.0  1470.0   1700600  \n",
       "\n",
       "[320 rows x 9 columns]"
      ]
     },
     "execution_count": 6,
     "metadata": {},
     "output_type": "execute_result"
    }
   ],
   "source": [
    "#x = pd.merge(reddit, twitter, how = 'inner', on = ['Date', 'Company'])\n",
    "#x = pd.merge(x, stocks, how = 'inner', on = ['Date', 'Company'])\n",
    "#x.rename(columns = {'Posts': 'Twitter Post Count'}, inplace = True)\n",
    "x"
   ]
  },
  {
   "cell_type": "code",
   "execution_count": 40,
   "metadata": {},
   "outputs": [],
   "source": [
    "x.to_csv('FinalDataSet.csv')"
   ]
  },
  {
   "cell_type": "code",
   "execution_count": 11,
   "metadata": {},
   "outputs": [
    {
     "data": {
      "text/html": [
       "<div>\n",
       "<style scoped>\n",
       "    .dataframe tbody tr th:only-of-type {\n",
       "        vertical-align: middle;\n",
       "    }\n",
       "\n",
       "    .dataframe tbody tr th {\n",
       "        vertical-align: top;\n",
       "    }\n",
       "\n",
       "    .dataframe thead th {\n",
       "        text-align: right;\n",
       "    }\n",
       "</style>\n",
       "<table border=\"1\" class=\"dataframe\">\n",
       "  <thead>\n",
       "    <tr style=\"text-align: right;\">\n",
       "      <th></th>\n",
       "      <th>Date</th>\n",
       "      <th>Reddit Post Count</th>\n",
       "      <th>Twitter Post Count</th>\n",
       "      <th>Company</th>\n",
       "      <th>Reddit Upvote Sum</th>\n",
       "      <th>Open</th>\n",
       "      <th>Close</th>\n",
       "      <th>Volume</th>\n",
       "      <th>Returns</th>\n",
       "    </tr>\n",
       "  </thead>\n",
       "  <tbody>\n",
       "    <tr>\n",
       "      <th>0</th>\n",
       "      <td>20-07-01</td>\n",
       "      <td>1</td>\n",
       "      <td>317034</td>\n",
       "      <td>FB</td>\n",
       "      <td>0</td>\n",
       "      <td>228.0</td>\n",
       "      <td>238.0</td>\n",
       "      <td>43399740</td>\n",
       "      <td>0.044</td>\n",
       "    </tr>\n",
       "    <tr>\n",
       "      <th>1</th>\n",
       "      <td>20-07-02</td>\n",
       "      <td>2</td>\n",
       "      <td>297197</td>\n",
       "      <td>FB</td>\n",
       "      <td>12</td>\n",
       "      <td>239.0</td>\n",
       "      <td>233.0</td>\n",
       "      <td>30633620</td>\n",
       "      <td>-0.025</td>\n",
       "    </tr>\n",
       "    <tr>\n",
       "      <th>2</th>\n",
       "      <td>20-07-06</td>\n",
       "      <td>0</td>\n",
       "      <td>278204</td>\n",
       "      <td>FB</td>\n",
       "      <td>0</td>\n",
       "      <td>234.0</td>\n",
       "      <td>240.0</td>\n",
       "      <td>26206158</td>\n",
       "      <td>0.026</td>\n",
       "    </tr>\n",
       "    <tr>\n",
       "      <th>3</th>\n",
       "      <td>20-07-07</td>\n",
       "      <td>1</td>\n",
       "      <td>309570</td>\n",
       "      <td>FB</td>\n",
       "      <td>2</td>\n",
       "      <td>239.0</td>\n",
       "      <td>241.0</td>\n",
       "      <td>27887786</td>\n",
       "      <td>0.008</td>\n",
       "    </tr>\n",
       "    <tr>\n",
       "      <th>4</th>\n",
       "      <td>20-07-08</td>\n",
       "      <td>3</td>\n",
       "      <td>338002</td>\n",
       "      <td>FB</td>\n",
       "      <td>81</td>\n",
       "      <td>238.0</td>\n",
       "      <td>244.0</td>\n",
       "      <td>29791340</td>\n",
       "      <td>0.025</td>\n",
       "    </tr>\n",
       "    <tr>\n",
       "      <th>...</th>\n",
       "      <td>...</td>\n",
       "      <td>...</td>\n",
       "      <td>...</td>\n",
       "      <td>...</td>\n",
       "      <td>...</td>\n",
       "      <td>...</td>\n",
       "      <td>...</td>\n",
       "      <td>...</td>\n",
       "      <td>...</td>\n",
       "    </tr>\n",
       "    <tr>\n",
       "      <th>315</th>\n",
       "      <td>20-09-24</td>\n",
       "      <td>0</td>\n",
       "      <td>1282</td>\n",
       "      <td>GOOG</td>\n",
       "      <td>0</td>\n",
       "      <td>1411.0</td>\n",
       "      <td>1428.0</td>\n",
       "      <td>1450200</td>\n",
       "      <td>0.012</td>\n",
       "    </tr>\n",
       "    <tr>\n",
       "      <th>316</th>\n",
       "      <td>20-09-25</td>\n",
       "      <td>1</td>\n",
       "      <td>1261</td>\n",
       "      <td>GOOG</td>\n",
       "      <td>52</td>\n",
       "      <td>1433.0</td>\n",
       "      <td>1445.0</td>\n",
       "      <td>1323000</td>\n",
       "      <td>0.008</td>\n",
       "    </tr>\n",
       "    <tr>\n",
       "      <th>317</th>\n",
       "      <td>20-09-28</td>\n",
       "      <td>0</td>\n",
       "      <td>1241</td>\n",
       "      <td>GOOG</td>\n",
       "      <td>0</td>\n",
       "      <td>1474.0</td>\n",
       "      <td>1465.0</td>\n",
       "      <td>2007900</td>\n",
       "      <td>-0.006</td>\n",
       "    </tr>\n",
       "    <tr>\n",
       "      <th>318</th>\n",
       "      <td>20-09-29</td>\n",
       "      <td>2</td>\n",
       "      <td>1822</td>\n",
       "      <td>GOOG</td>\n",
       "      <td>2083</td>\n",
       "      <td>1470.0</td>\n",
       "      <td>1469.0</td>\n",
       "      <td>978200</td>\n",
       "      <td>-0.001</td>\n",
       "    </tr>\n",
       "    <tr>\n",
       "      <th>319</th>\n",
       "      <td>20-09-30</td>\n",
       "      <td>0</td>\n",
       "      <td>1255</td>\n",
       "      <td>GOOG</td>\n",
       "      <td>0</td>\n",
       "      <td>1467.0</td>\n",
       "      <td>1470.0</td>\n",
       "      <td>1700600</td>\n",
       "      <td>0.002</td>\n",
       "    </tr>\n",
       "  </tbody>\n",
       "</table>\n",
       "<p>320 rows × 9 columns</p>\n",
       "</div>"
      ],
      "text/plain": [
       "         Date  Reddit Post Count  Twitter Post Count Company  \\\n",
       "0    20-07-01                  1              317034      FB   \n",
       "1    20-07-02                  2              297197      FB   \n",
       "2    20-07-06                  0              278204      FB   \n",
       "3    20-07-07                  1              309570      FB   \n",
       "4    20-07-08                  3              338002      FB   \n",
       "..        ...                ...                 ...     ...   \n",
       "315  20-09-24                  0                1282    GOOG   \n",
       "316  20-09-25                  1                1261    GOOG   \n",
       "317  20-09-28                  0                1241    GOOG   \n",
       "318  20-09-29                  2                1822    GOOG   \n",
       "319  20-09-30                  0                1255    GOOG   \n",
       "\n",
       "     Reddit Upvote Sum    Open   Close    Volume  Returns  \n",
       "0                    0   228.0   238.0  43399740    0.044  \n",
       "1                   12   239.0   233.0  30633620   -0.025  \n",
       "2                    0   234.0   240.0  26206158    0.026  \n",
       "3                    2   239.0   241.0  27887786    0.008  \n",
       "4                   81   238.0   244.0  29791340    0.025  \n",
       "..                 ...     ...     ...       ...      ...  \n",
       "315                  0  1411.0  1428.0   1450200    0.012  \n",
       "316                 52  1433.0  1445.0   1323000    0.008  \n",
       "317                  0  1474.0  1465.0   2007900   -0.006  \n",
       "318               2083  1470.0  1469.0    978200   -0.001  \n",
       "319                  0  1467.0  1470.0   1700600    0.002  \n",
       "\n",
       "[320 rows x 9 columns]"
      ]
     },
     "execution_count": 11,
     "metadata": {},
     "output_type": "execute_result"
    }
   ],
   "source": [
    "x['Returns'] = round((x['Close'] - x['Open'])/x['Open'], 3)\n",
    "\n",
    "x"
   ]
  },
  {
   "cell_type": "code",
   "execution_count": 15,
   "metadata": {},
   "outputs": [
    {
     "data": {
      "text/plain": [
       "array(['FB', 'AMZN', 'AAPL', 'NFLX', 'GOOG'], dtype=object)"
      ]
     },
     "execution_count": 15,
     "metadata": {},
     "output_type": "execute_result"
    }
   ],
   "source": [
    "x['Company'].unique()"
   ]
  },
  {
   "cell_type": "code",
   "execution_count": 13,
   "metadata": {},
   "outputs": [
    {
     "data": {
      "image/png": "[encoded data removed]",
      "text/plain": [
       "<Figure size 432x288 with 1 Axes>"
      ]
     },
     "metadata": {
      "needs_background": "light"
     },
     "output_type": "display_data"
    }
   ],
   "source": [
    "Facebook = x[x['Company'] == 'FB']\n",
    "\n",
    "plt.scatter(Facebook['Twitter Post Count'], Facebook['Returns'])\n",
    "plt.xlabel('Number of Facebook Twitter Post')\n",
    "plt.ylabel('Returns')\n",
    "plt.show()"
   ]
  },
  {
   "cell_type": "code",
   "execution_count": 16,
   "metadata": {},
   "outputs": [
    {
     "data": {
      "image/png": "[encoded data removed]",
      "text/plain": [
       "<Figure size 432x288 with 1 Axes>"
      ]
     },
     "metadata": {
      "needs_background": "light"
     },
     "output_type": "display_data"
    }
   ],
   "source": [
    "Apple = x[x['Company'] == 'AAPL']\n",
    "\n",
    "plt.scatter(Apple['Twitter Post Count'], Apple['Returns'])\n",
    "plt.xlabel('Number of Apple Twitter Post')\n",
    "plt.ylabel('Returns')\n",
    "plt.show()"
   ]
  },
  {
   "cell_type": "code",
   "execution_count": 17,
   "metadata": {},
   "outputs": [
    {
     "data": {
      "image/png": "[encoded data removed]",
      "text/plain": [
       "<Figure size 432x288 with 1 Axes>"
      ]
     },
     "metadata": {
      "needs_background": "light"
     },
     "output_type": "display_data"
    }
   ],
   "source": [
    "Amazon = x[x['Company'] == 'AMZN']\n",
    "\n",
    "plt.scatter(Amazon['Twitter Post Count'], Amazon['Returns'])\n",
    "plt.xlabel('Number of Amazon Twitter Post')\n",
    "plt.ylabel('Returns')\n",
    "plt.show()"
   ]
  },
  {
   "cell_type": "code",
   "execution_count": 18,
   "metadata": {},
   "outputs": [
    {
     "data": {
      "image/png": "[encoded data removed]",
      "text/plain": [
       "<Figure size 432x288 with 1 Axes>"
      ]
     },
     "metadata": {
      "needs_background": "light"
     },
     "output_type": "display_data"
    }
   ],
   "source": [
    "Netflix = x[x['Company'] == 'NFLX']\n",
    "\n",
    "plt.scatter(Netflix['Twitter Post Count'], Netflix['Returns'])\n",
    "plt.xlabel('Number of Netflix Twitter Post')\n",
    "plt.ylabel('Returns')\n",
    "plt.show()"
   ]
  },
  {
   "cell_type": "code",
   "execution_count": 19,
   "metadata": {},
   "outputs": [
    {
     "data": {
      "image/png": "[encoded data removed]",
      "text/plain": [
       "<Figure size 432x288 with 1 Axes>"
      ]
     },
     "metadata": {
      "needs_background": "light"
     },
     "output_type": "display_data"
    }
   ],
   "source": [
    "Google = x[x['Company'] == 'GOOG']\n",
    "\n",
    "plt.scatter(Google['Twitter Post Count'], Google['Returns'])\n",
    "plt.xlabel('Number of Google Twitter Post')\n",
    "plt.ylabel('Returns')\n",
    "plt.show()"
   ]
  },
  {
   "cell_type": "code",
   "execution_count": 25,
   "metadata": {},
   "outputs": [
    {
     "name": "stdout",
     "output_type": "stream",
     "text": [
      "The average correlation between companies and stock returns is 0.0527\n"
     ]
    }
   ],
   "source": [
    "companies = [Facebook, Apple, Amazon, Netflix, Google]\n",
    "\n",
    "correlations = []\n",
    "for company in companies:\n",
    "    print(\"The correlation of \")\n",
    "    correlations.append(company['Twitter Post Count'].corr(company['Returns']))\n",
    "print(\"The average correlation between companies and stock returns is \" + str(round(np.mean(correlations), 4)))"
   ]
  },
  {
   "cell_type": "code",
   "execution_count": 35,
   "metadata": {},
   "outputs": [
    {
     "data": {
      "text/plain": [
       "0.00020921499122139586"
      ]
     },
     "execution_count": 35,
     "metadata": {},
     "output_type": "execute_result"
    }
   ],
   "source": [
    "X = x[['Twitter Post Count']]\n",
    "y = x['Returns']\n",
    "fit = LinearRegression().fit(X, y)\n",
    "fit.score(X, y)"
   ]
  },
  {
   "cell_type": "code",
   "execution_count": 38,
   "metadata": {},
   "outputs": [],
   "source": [
    "def RSS(X_test, y_test)\n",
    "\n",
    "X_train, X_test, y_train, y_test = train_test_split(X, y, test_size = 0.20, random_state = 15)\n",
    "\n",
    "fit = LinearRegression().fit(X_train, y_train)\n",
    "\n",
    "for x in X_test:\n",
    "    y_testfit.predict(x)\n",
    "    \n",
    "    \n",
    "    \n",
    "    \n",
    "    "
   ]
  },
  {
   "cell_type": "code",
   "execution_count": 54,
   "metadata": {},
   "outputs": [
    {
     "data": {
      "image/png": "[encoded data removed]",
      "text/plain": [
       "<Figure size 432x288 with 4 Axes>"
      ]
     },
     "metadata": {
      "needs_background": "light"
     },
     "output_type": "display_data"
    }
   ],
   "source": [
    "fig, axs = plt.subplots(2, 2)\n",
    "axs[0,0].scatter(Facebook['Twitter Post Count'], Facebook['Returns'])\n",
    "axs[0,0].set_title('Facebook')\n",
    "\n",
    "axs[0,1].scatter(Apple['Twitter Post Count'], Apple['Returns'])\n",
    "axs[0,1].set_title('Apple')\n",
    "\n",
    "axs[1,0].scatter(Amazon['Twitter Post Count'], Amazon['Returns'])\n",
    "axs[1,0].set_title('Amazon')\n",
    "\n",
    "axs[1,1].scatter(Netflix['Twitter Post Count'], Netflix['Returns'])\n",
    "axs[1,1].set_title('Netflix')\n",
    "\n",
    "for ax in axs.flat:\n",
    "    ax.set(xlabel='Number of Twitter Post', ylabel='Returns')\n",
    "    \n",
    "for ax in axs.flat:\n",
    "    ax.label_outer()\n",
    "#axs[0,4].scatter(Google['Twitter Post Count'], Google['Returns'])"
   ]
  },
  {
   "cell_type": "code",
   "execution_count": 56,
   "metadata": {},
   "outputs": [
    {
     "data": {
      "text/plain": [
       "Text(0.5, 1.0, 'Google')"
      ]
     },
     "execution_count": 56,
     "metadata": {},
     "output_type": "execute_result"
    },
    {
     "data": {
      "image/png": "[encoded data removed]",
      "text/plain": [
       "<Figure size 432x288 with 1 Axes>"
      ]
     },
     "metadata": {
      "needs_background": "light"
     },
     "output_type": "display_data"
    }
   ],
   "source": [
    "fig, ax = plt.subplots()\n",
    "ax.scatter(Google['Twitter Post Count'], Google['Returns'])\n",
    "ax.set_title('Google')"
   ]
  },
  {
   "cell_type": "code",
   "execution_count": null,
   "metadata": {},
   "outputs": [],
   "source": []
  }
 ],
 "metadata": {
  "kernelspec": {
   "display_name": "Python 3",
   "language": "python",
   "name": "python3"
  },
  "language_info": {
   "codemirror_mode": {
    "name": "ipython",
    "version": 3
   },
   "file_extension": ".py",
   "mimetype": "text/x-python",
   "name": "python",
   "nbconvert_exporter": "python",
   "pygments_lexer": "ipython3",
   "version": "3.7.6"
  }
 },
 "nbformat": 4,
 "nbformat_minor": 4
}
