{
 "cells": [
  {
   "cell_type": "code",
   "execution_count": 146,
   "metadata": {},
   "outputs": [],
   "source": [
    "import pandas as pd\n",
    "import numpy as np\n",
    "import matplotlib.pyplot as plt\n",
    "from sklearn.linear_model import LinearRegression\n",
    "from sklearn.linear_model import LogisticRegression\n",
    "from sklearn.metrics import mean_squared_error\n",
    "from sklearn.preprocessing import PolynomialFeatures\n",
    "from sklearn.model_selection import train_test_split"
   ]
  },
  {
   "cell_type": "code",
   "execution_count": 50,
   "metadata": {},
   "outputs": [
    {
     "data": {
      "text/html": [
       "<div>\n",
       "<style scoped>\n",
       "    .dataframe tbody tr th:only-of-type {\n",
       "        vertical-align: middle;\n",
       "    }\n",
       "\n",
       "    .dataframe tbody tr th {\n",
       "        vertical-align: top;\n",
       "    }\n",
       "\n",
       "    .dataframe thead th {\n",
       "        text-align: right;\n",
       "    }\n",
       "</style>\n",
       "<table border=\"1\" class=\"dataframe\">\n",
       "  <thead>\n",
       "    <tr style=\"text-align: right;\">\n",
       "      <th></th>\n",
       "      <th>Date</th>\n",
       "      <th>Reddit Post Count</th>\n",
       "      <th>Twitter Post Count</th>\n",
       "      <th>Company</th>\n",
       "      <th>Reddit Upvote Sum</th>\n",
       "      <th>Open</th>\n",
       "      <th>Close</th>\n",
       "      <th>Volume</th>\n",
       "      <th>Returns</th>\n",
       "    </tr>\n",
       "  </thead>\n",
       "  <tbody>\n",
       "    <tr>\n",
       "      <th>0</th>\n",
       "      <td>20-07-01</td>\n",
       "      <td>1</td>\n",
       "      <td>317034</td>\n",
       "      <td>FB</td>\n",
       "      <td>0</td>\n",
       "      <td>228.0</td>\n",
       "      <td>238.0</td>\n",
       "      <td>43399740</td>\n",
       "      <td>0.044</td>\n",
       "    </tr>\n",
       "    <tr>\n",
       "      <th>1</th>\n",
       "      <td>20-07-02</td>\n",
       "      <td>2</td>\n",
       "      <td>297197</td>\n",
       "      <td>FB</td>\n",
       "      <td>12</td>\n",
       "      <td>239.0</td>\n",
       "      <td>233.0</td>\n",
       "      <td>30633620</td>\n",
       "      <td>-0.025</td>\n",
       "    </tr>\n",
       "    <tr>\n",
       "      <th>2</th>\n",
       "      <td>20-07-06</td>\n",
       "      <td>0</td>\n",
       "      <td>278204</td>\n",
       "      <td>FB</td>\n",
       "      <td>0</td>\n",
       "      <td>234.0</td>\n",
       "      <td>240.0</td>\n",
       "      <td>26206158</td>\n",
       "      <td>0.026</td>\n",
       "    </tr>\n",
       "    <tr>\n",
       "      <th>3</th>\n",
       "      <td>20-07-07</td>\n",
       "      <td>1</td>\n",
       "      <td>309570</td>\n",
       "      <td>FB</td>\n",
       "      <td>2</td>\n",
       "      <td>239.0</td>\n",
       "      <td>241.0</td>\n",
       "      <td>27887786</td>\n",
       "      <td>0.008</td>\n",
       "    </tr>\n",
       "    <tr>\n",
       "      <th>4</th>\n",
       "      <td>20-07-08</td>\n",
       "      <td>3</td>\n",
       "      <td>338002</td>\n",
       "      <td>FB</td>\n",
       "      <td>81</td>\n",
       "      <td>238.0</td>\n",
       "      <td>244.0</td>\n",
       "      <td>29791340</td>\n",
       "      <td>0.025</td>\n",
       "    </tr>\n",
       "  </tbody>\n",
       "</table>\n",
       "</div>"
      ],
      "text/plain": [
       "       Date  Reddit Post Count  Twitter Post Count Company  Reddit Upvote Sum  \\\n",
       "0  20-07-01                  1              317034      FB                  0   \n",
       "1  20-07-02                  2              297197      FB                 12   \n",
       "2  20-07-06                  0              278204      FB                  0   \n",
       "3  20-07-07                  1              309570      FB                  2   \n",
       "4  20-07-08                  3              338002      FB                 81   \n",
       "\n",
       "    Open  Close    Volume  Returns  \n",
       "0  228.0  238.0  43399740    0.044  \n",
       "1  239.0  233.0  30633620   -0.025  \n",
       "2  234.0  240.0  26206158    0.026  \n",
       "3  239.0  241.0  27887786    0.008  \n",
       "4  238.0  244.0  29791340    0.025  "
      ]
     },
     "execution_count": 50,
     "metadata": {},
     "output_type": "execute_result"
    }
   ],
   "source": [
    "social = pd.read_csv('FinalDataSet.csv', index_col = 0)\n",
    "social.head()"
   ]
  },
  {
   "cell_type": "code",
   "execution_count": 52,
   "metadata": {},
   "outputs": [
    {
     "data": {
      "text/plain": [
       "array(['FB', 'AMZN', 'AAPL', 'NFLX', 'GOOG'], dtype=object)"
      ]
     },
     "execution_count": 52,
     "metadata": {},
     "output_type": "execute_result"
    }
   ],
   "source": [
    "social['Company'].unique()"
   ]
  },
  {
   "cell_type": "code",
   "execution_count": 161,
   "metadata": {},
   "outputs": [
    {
     "name": "stdout",
     "output_type": "stream",
     "text": [
      "[[         nan  1.00000e+00]\n",
      " [-1.98370e+04  1.00000e+00]\n",
      " [-1.89930e+04  1.00000e+00]\n",
      " [ 3.13660e+04  1.00000e+00]\n",
      " [ 2.84320e+04  1.00000e+00]\n",
      " [-5.25140e+04  1.00000e+00]\n",
      " [ 4.38620e+04  1.00000e+00]\n",
      " [-7.44700e+03  1.00000e+00]\n",
      " [-7.52600e+03  1.00000e+00]\n",
      " [-4.20000e+03  1.00000e+00]\n",
      " [-1.05200e+04  1.00000e+00]\n",
      " [-1.04280e+04  1.00000e+00]\n",
      " [ 1.42340e+04  1.00000e+00]\n",
      " [-2.31940e+04  1.00000e+00]\n",
      " [ 2.07150e+04  1.00000e+00]\n",
      " [-4.66800e+03  1.00000e+00]\n",
      " [-1.55120e+04  1.00000e+00]\n",
      " [ 2.10300e+04  1.00000e+00]\n",
      " [ 5.88330e+04  1.00000e+00]\n",
      " [-2.44980e+04  1.00000e+00]\n",
      " [-3.19380e+04  1.00000e+00]\n",
      " [-2.58140e+04  1.00000e+00]\n",
      " [ 1.10900e+04  1.00000e+00]\n",
      " [ 1.15980e+05  1.00000e+00]\n",
      " [-5.21200e+04  1.00000e+00]\n",
      " [ 1.83600e+03  1.00000e+00]\n",
      " [ 6.87300e+03  1.00000e+00]\n",
      " [-4.94610e+04  1.00000e+00]\n",
      " [ 7.85000e+03  1.00000e+00]\n",
      " [ 1.16387e+05  1.00000e+00]\n",
      " [-8.49880e+04  1.00000e+00]\n",
      " [-1.14810e+04  1.00000e+00]\n",
      " [ 1.88720e+04  1.00000e+00]\n",
      " [ 8.74700e+03  1.00000e+00]\n",
      " [ 2.24350e+04  1.00000e+00]\n",
      " [-8.93100e+03  1.00000e+00]\n",
      " [-2.51070e+04  1.00000e+00]\n",
      " [ 3.28500e+03  1.00000e+00]\n",
      " [ 5.91100e+04  1.00000e+00]\n",
      " [-5.99100e+03  1.00000e+00]\n",
      " [-5.23690e+04  1.00000e+00]\n",
      " [-7.35300e+03  1.00000e+00]\n",
      " [ 2.75010e+04  1.00000e+00]\n",
      " [-1.10260e+04  1.00000e+00]\n",
      " [ 1.10700e+03  1.00000e+00]\n",
      " [-3.48500e+03  1.00000e+00]\n",
      " [-6.13500e+03  1.00000e+00]\n",
      " [-1.70270e+04  1.00000e+00]\n",
      " [-1.03110e+04  1.00000e+00]\n",
      " [ 3.97500e+04  1.00000e+00]\n",
      " [ 1.08680e+04  1.00000e+00]\n",
      " [-3.85640e+04  1.00000e+00]\n",
      " [ 3.15210e+04  1.00000e+00]\n",
      " [-2.37680e+04  1.00000e+00]\n",
      " [ 2.56210e+04  1.00000e+00]\n",
      " [-2.68850e+04  1.00000e+00]\n",
      " [ 7.07700e+04  1.00000e+00]\n",
      " [-2.81080e+04  1.00000e+00]\n",
      " [ 2.98905e+05  1.00000e+00]\n",
      " [-1.37442e+05  1.00000e+00]\n",
      " [-5.85650e+04  1.00000e+00]\n",
      " [-8.24730e+04  1.00000e+00]\n",
      " [ 7.41580e+04  1.00000e+00]\n",
      " [ 3.00981e+05  1.00000e+00]]\n"
     ]
    }
   ],
   "source": [
    "ones = pd.Series(np.ones(64))\n",
    "t = pd.concat([X,ones], axis = 1)\n",
    "print(t.values)"
   ]
  },
  {
   "cell_type": "code",
   "execution_count": 104,
   "metadata": {},
   "outputs": [
    {
     "data": {
      "text/plain": [
       "-0.5711129491918101"
      ]
     },
     "execution_count": 104,
     "metadata": {},
     "output_type": "execute_result"
    }
   ],
   "source": [
    "facebook = social.loc[social['Company'] == 'FB']\n",
    "X = facebook['Twitter Post Count'].diff()[1:]\n",
    "y = facebook['Returns'][1:] \n",
    "\n",
    "X_train, X_test, y_train, y_test = train_test_split(X, y, test_size = 0.20, shuffle = False)\n",
    "\n",
    "\n",
    "facebook_fit = LinearRegression().fit(X_train.values.reshape(-1, 1), y_train)\n",
    "facebook_fit.score(X_test.values.reshape(-1,1),y_test)"
   ]
  },
  {
   "cell_type": "code",
   "execution_count": 156,
   "metadata": {},
   "outputs": [
    {
     "data": {
      "image/png": "[encoded data removed]",
      "text/plain": [
       "<Figure size 432x288 with 1 Axes>"
      ]
     },
     "metadata": {
      "needs_background": "light"
     },
     "output_type": "display_data"
    }
   ],
   "source": [
    "plt.scatter(X_test.values, y_test)\n",
    "plt.plot(X_test.values, facebook_fit.predict(X_test.values.reshape(-1,1)))\n",
    "plt.xlabel('Tweet differences')\n",
    "plt.ylabel('Facebook returns')\n",
    "plt.show()"
   ]
  },
  {
   "cell_type": "code",
   "execution_count": 84,
   "metadata": {},
   "outputs": [
    {
     "data": {
      "text/plain": [
       "-0.11213299332669147"
      ]
     },
     "execution_count": 84,
     "metadata": {},
     "output_type": "execute_result"
    }
   ],
   "source": [
    "apple = social.loc[social['Company'] == 'AAPL']\n",
    "X = apple['Twitter Post Count'].diff()[1:]\n",
    "y = apple['Returns'][1:] \n",
    "\n",
    "X_train, X_test, y_train, y_test = train_test_split(X, y, test_size = 0.20, shuffle = False)\n",
    "\n",
    "\n",
    "apple_fit = LinearRegression().fit(X_train.values.reshape(-1, 1), y_train)\n",
    "apple_fit.score(X_test.values.reshape(-1,1),y_test)"
   ]
  },
  {
   "cell_type": "code",
   "execution_count": 157,
   "metadata": {},
   "outputs": [
    {
     "data": {
      "image/png": "[encoded data removed]",
      "text/plain": [
       "<Figure size 432x288 with 1 Axes>"
      ]
     },
     "metadata": {
      "needs_background": "light"
     },
     "output_type": "display_data"
    }
   ],
   "source": [
    "plt.scatter(X_test.values, y_test)\n",
    "plt.plot(X_test.values, apple_fit.predict(X_test.values.reshape(-1,1)))\n",
    "plt.xlabel('Tweet differences')\n",
    "plt.ylabel('Apple returns')\n",
    "plt.show()"
   ]
  },
  {
   "cell_type": "code",
   "execution_count": 86,
   "metadata": {},
   "outputs": [
    {
     "data": {
      "text/plain": [
       "0.059041589239410615"
      ]
     },
     "execution_count": 86,
     "metadata": {},
     "output_type": "execute_result"
    }
   ],
   "source": [
    "amazon = social.loc[social['Company'] == 'AMZN']\n",
    "X = amazon['Twitter Post Count'].diff()[1:]\n",
    "y = amazon['Returns'][1:] \n",
    "\n",
    "X_train, X_test, y_train, y_test = train_test_split(X, y, test_size = 0.20, shuffle = False)\n",
    "\n",
    "\n",
    "amazon_fit = LinearRegression().fit(X_train.values.reshape(-1, 1), y_train)\n",
    "amazon_fit.score(X_test.values.reshape(-1,1),y_test)"
   ]
  },
  {
   "cell_type": "code",
   "execution_count": 158,
   "metadata": {},
   "outputs": [
    {
     "data": {
      "image/png": "[encoded data removed]",
      "text/plain": [
       "<Figure size 432x288 with 1 Axes>"
      ]
     },
     "metadata": {
      "needs_background": "light"
     },
     "output_type": "display_data"
    }
   ],
   "source": [
    "plt.scatter(X_test.values, y_test)\n",
    "plt.plot(X_test.values, amazon_fit.predict(X_test.values.reshape(-1,1)))\n",
    "plt.xlabel('Tweet differences')\n",
    "plt.ylabel('Amazon returns')\n",
    "plt.show()"
   ]
  },
  {
   "cell_type": "code",
   "execution_count": 88,
   "metadata": {},
   "outputs": [
    {
     "data": {
      "text/plain": [
       "0.03801843411065109"
      ]
     },
     "execution_count": 88,
     "metadata": {},
     "output_type": "execute_result"
    }
   ],
   "source": [
    "netflix = social.loc[social['Company'] == 'NFLX']\n",
    "X = netflix['Twitter Post Count'].diff()[1:]\n",
    "y = netflix['Returns'][1:] \n",
    "\n",
    "X_train, X_test, y_train, y_test = train_test_split(X, y, test_size = 0.20, shuffle = False)\n",
    "\n",
    "\n",
    "netflix_fit = LinearRegression().fit(X_train.values.reshape(-1, 1), y_train)\n",
    "netflix_fit.score(X_test.values.reshape(-1,1),y_test)"
   ]
  },
  {
   "cell_type": "code",
   "execution_count": 159,
   "metadata": {},
   "outputs": [
    {
     "data": {
      "image/png": "[encoded data removed]",
      "text/plain": [
       "<Figure size 432x288 with 1 Axes>"
      ]
     },
     "metadata": {
      "needs_background": "light"
     },
     "output_type": "display_data"
    }
   ],
   "source": [
    "plt.scatter(X_test.values, y_test)\n",
    "plt.plot(X_test.values, netflix_fit.predict(X_test.values.reshape(-1,1)))\n",
    "plt.xlabel('Tweet differences')\n",
    "plt.ylabel('Netflix returns')\n",
    "plt.show()"
   ]
  },
  {
   "cell_type": "code",
   "execution_count": 90,
   "metadata": {},
   "outputs": [
    {
     "data": {
      "text/plain": [
       "-0.3713291179289482"
      ]
     },
     "execution_count": 90,
     "metadata": {},
     "output_type": "execute_result"
    }
   ],
   "source": [
    "google = social.loc[social['Company'] == 'GOOG']\n",
    "X = google['Twitter Post Count'].diff()[1:]\n",
    "y = google['Returns'][1:] \n",
    "\n",
    "X_train, X_test, y_train, y_test = train_test_split(X, y, test_size = 0.20, shuffle = False)\n",
    "\n",
    "\n",
    "google_fit = LinearRegression().fit(X_train.values.reshape(-1, 1), y_train)\n",
    "google_fit.score(X_test.values.reshape(-1,1),y_test)"
   ]
  },
  {
   "cell_type": "code",
   "execution_count": 160,
   "metadata": {
    "scrolled": true
   },
   "outputs": [
    {
     "data": {
      "image/png": "[encoded data removed]",
      "text/plain": [
       "<Figure size 432x288 with 1 Axes>"
      ]
     },
     "metadata": {
      "needs_background": "light"
     },
     "output_type": "display_data"
    }
   ],
   "source": [
    "plt.scatter(X_test.values, y_test)\n",
    "plt.plot(X_test.values, google_fit.predict(X_test.values.reshape(-1,1)))\n",
    "plt.xlabel('Tweet differences')\n",
    "plt.ylabel('Google returns')\n",
    "plt.show()"
   ]
  },
  {
   "cell_type": "markdown",
   "metadata": {},
   "source": [
    "# Polynomial Transformation"
   ]
  },
  {
   "cell_type": "code",
   "execution_count": 145,
   "metadata": {},
   "outputs": [
    {
     "data": {
      "image/png": "[encoded data removed]",
      "text/plain": [
       "<Figure size 432x288 with 1 Axes>"
      ]
     },
     "metadata": {
      "needs_background": "light"
     },
     "output_type": "display_data"
    }
   ],
   "source": [
    "X = facebook['Twitter Post Count'].diff()[1:]\n",
    "y = facebook['Returns'][1:] \n",
    "\n",
    "X_train, X_test, y_train, y_test = train_test_split(X, y, test_size = 0.30, shuffle = False)\n",
    "\n",
    "poly = PolynomialFeatures(degree = 10) \n",
    "X_poly = poly.fit_transform(X_train.values.reshape(-1, 1)) \n",
    "  \n",
    "poly.fit(X_poly, y_train) \n",
    "lin2 = LinearRegression() \n",
    "lin2.fit(X_poly, y_train)\n",
    "\n",
    "# Visualising the Polynomial Regression results \n",
    "plt.scatter(X_test, y_test, color = 'blue') \n",
    "  \n",
    "plt.plot(X_test.values, lin2.predict(poly.fit_transform(X_test.values.reshape(-1,1))), color = 'red') \n",
    "plt.title('Polynomial Regression') \n",
    "plt.xlabel('Tweet Differences') \n",
    "plt.ylabel('Returns') \n",
    "plt.ylim(-0.05,0.05)\n",
    "  \n",
    "plt.show() \n"
   ]
  },
  {
   "cell_type": "code",
   "execution_count": 154,
   "metadata": {},
   "outputs": [
    {
     "data": {
      "text/plain": [
       "39843970.15546007"
      ]
     },
     "execution_count": 154,
     "metadata": {},
     "output_type": "execute_result"
    }
   ],
   "source": [
    "mean_squared_error(y_test, lin2.predict(poly.fit_transform(X_test.values.reshape(-1,1))))"
   ]
  },
  {
   "cell_type": "markdown",
   "metadata": {},
   "source": [
    "# Feature Transformation"
   ]
  },
  {
   "cell_type": "code",
   "execution_count": 165,
   "metadata": {},
   "outputs": [
    {
     "data": {
      "text/plain": [
       "-0.05176424533266011"
      ]
     },
     "execution_count": 165,
     "metadata": {},
     "output_type": "execute_result"
    }
   ],
   "source": [
    "#Multiply tweet differences and reddit\n",
    "X1 = facebook['Twitter Post Count'].diff()[1:]\n",
    "X2 = facebook['Reddit Upvote Sum'].diff()[1:]\n",
    "X = X1 * X2\n",
    "y = facebook['Returns'][1:] \n",
    "\n",
    "X_train, X_test, y_train, y_test = train_test_split(X, y, test_size = 0.20, shuffle = False)\n",
    "\n",
    "\n",
    "facebook_fit = LinearRegression().fit(X_train.values.reshape(-1, 1), y_train)\n",
    "facebook_fit.score(X_test.values.reshape(-1,1),y_test)"
   ]
  },
  {
   "cell_type": "code",
   "execution_count": 164,
   "metadata": {},
   "outputs": [
    {
     "data": {
      "text/plain": [
       "-0.006268180688428604"
      ]
     },
     "execution_count": 164,
     "metadata": {},
     "output_type": "execute_result"
    }
   ],
   "source": [
    "X1 = apple['Twitter Post Count'].diff()[1:]\n",
    "X2 = apple['Reddit Upvote Sum'].diff()[1:]\n",
    "X = X1 * X2\n",
    "y = apple['Returns'][1:] \n",
    "\n",
    "X_train, X_test, y_train, y_test = train_test_split(X, y, test_size = 0.20, shuffle = False)\n",
    "\n",
    "\n",
    "apple_fit = LinearRegression().fit(X_train.values.reshape(-1, 1), y_train)\n",
    "apple_fit.score(X_test.values.reshape(-1,1),y_test)"
   ]
  },
  {
   "cell_type": "code",
   "execution_count": 166,
   "metadata": {},
   "outputs": [
    {
     "data": {
      "text/plain": [
       "-0.0013010755059399415"
      ]
     },
     "execution_count": 166,
     "metadata": {},
     "output_type": "execute_result"
    }
   ],
   "source": [
    "X1 = amazon['Twitter Post Count'].diff()[1:]\n",
    "X2 = amazon['Reddit Upvote Sum'].diff()[1:]\n",
    "X = X1 * X2\n",
    "y = amazon['Returns'][1:] \n",
    "\n",
    "X_train, X_test, y_train, y_test = train_test_split(X, y, test_size = 0.20, shuffle = False)\n",
    "\n",
    "\n",
    "amazon_fit = LinearRegression().fit(X_train.values.reshape(-1, 1), y_train)\n",
    "amazon_fit.score(X_test.values.reshape(-1,1),y_test)"
   ]
  },
  {
   "cell_type": "code",
   "execution_count": 167,
   "metadata": {},
   "outputs": [
    {
     "data": {
      "text/plain": [
       "-0.0011674650545199228"
      ]
     },
     "execution_count": 167,
     "metadata": {},
     "output_type": "execute_result"
    }
   ],
   "source": [
    "X1 = netflix['Twitter Post Count'].diff()[1:]\n",
    "X2 = netflix['Reddit Upvote Sum'].diff()[1:]\n",
    "X = X1 * X2\n",
    "y = netflix['Returns'][1:] \n",
    "\n",
    "X_train, X_test, y_train, y_test = train_test_split(X, y, test_size = 0.20, shuffle = False)\n",
    "\n",
    "\n",
    "netflix_fit = LinearRegression().fit(X_train.values.reshape(-1, 1), y_train)\n",
    "netflix_fit.score(X_test.values.reshape(-1,1),y_test)"
   ]
  },
  {
   "cell_type": "code",
   "execution_count": 168,
   "metadata": {},
   "outputs": [
    {
     "data": {
      "text/plain": [
       "-0.340902073735613"
      ]
     },
     "execution_count": 168,
     "metadata": {},
     "output_type": "execute_result"
    }
   ],
   "source": [
    "X1 = google['Twitter Post Count'].diff()[1:]\n",
    "X2 = google['Reddit Upvote Sum'].diff()[1:]\n",
    "X = X1 * X2\n",
    "y = google['Returns'][1:] \n",
    "\n",
    "X_train, X_test, y_train, y_test = train_test_split(X, y, test_size = 0.20, shuffle = False)\n",
    "\n",
    "\n",
    "google_fit = LinearRegression().fit(X_train.values.reshape(-1, 1), y_train)\n",
    "google_fit.score(X_test.values.reshape(-1,1),y_test)"
   ]
  },
  {
   "cell_type": "code",
   "execution_count": null,
   "metadata": {},
   "outputs": [],
   "source": []
  }
 ],
 "metadata": {
  "kernelspec": {
   "display_name": "Python 3",
   "language": "python",
   "name": "python3"
  },
  "language_info": {
   "codemirror_mode": {
    "name": "ipython",
    "version": 3
   },
   "file_extension": ".py",
   "mimetype": "text/x-python",
   "name": "python",
   "nbconvert_exporter": "python",
   "pygments_lexer": "ipython3",
   "version": "3.7.6"
  }
 },
 "nbformat": 4,
 "nbformat_minor": 4
}
