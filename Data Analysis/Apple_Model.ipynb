{
 "cells": [
  {
   "cell_type": "code",
   "execution_count": 3,
   "metadata": {},
   "outputs": [
    {
     "name": "stderr",
     "output_type": "stream",
     "text": [
      "InterruptException:\n",
      "Stacktrace:\n",
      " [1] top-level scope at none:2\n",
      " [2] eval at ./boot.jl:331 [inlined]\n",
      "in expression starting at /home/jacob/.julia/packages/NLSolversBase/QPnui/src/NLSolversBase.jl:5\n",
      "InterruptException:\n",
      "Stacktrace:\n",
      " [1] include at ./Base.jl:368 [inlined]\n",
      " [2] include(::String) at /home/jacob/.julia/packages/LowRankModels/YZgma/src/LowRankModels.jl:3\n",
      " [3] top-level scope at /home/jacob/.julia/packages/LowRankModels/YZgma/src/LowRankModels.jl:19\n",
      " [4] top-level scope at none:2\n",
      " [5] eval at ./boot.jl:331 [inlined]\n",
      "in expression starting at /home/jacob/.julia/packages/LowRankModels/YZgma/src/losses.jl:39\n",
      "in expression starting at /home/jacob/.julia/packages/LowRankModels/YZgma/src/LowRankModels.jl:19\n",
      "┌ Info: Precompiling LowRankModels [15d4e49f-4837-5ea3-a885-5b28bfa376dc]\n",
      "└ @ Base loading.jl:1278\n",
      "┌ Info: Precompiling CSV [336ed68f-0bac-5ca0-87d4-7b16caf5d00b]\n",
      "└ @ Base loading.jl:1278\n",
      "┌ Info: Precompiling ScikitLearn [3646fa90-6ef7-5e7e-9f22-8aca16db6324]\n",
      "└ @ Base loading.jl:1278\n",
      "┌ Info: Precompiling Distributions [31c24e10-a181-5473-b8eb-7969acd0382f]\n",
      "└ @ Base loading.jl:1278\n"
     ]
    },
    {
     "data": {
      "text/plain": [
       "proxgrad_const"
      ]
     },
     "execution_count": 3,
     "metadata": {},
     "output_type": "execute_result"
    }
   ],
   "source": [
    "using DataFrames, LowRankModels, CSV, LinearAlgebra, Statistics, ScikitLearn, Random, Distributions\n",
    "include(\"proxgrad.jl\")"
   ]
  },
  {
   "cell_type": "code",
   "execution_count": 26,
   "metadata": {},
   "outputs": [
    {
     "data": {
      "text/html": [
       "<table class=\"data-frame\"><thead><tr><th></th><th>Twitter Post Count</th><th>Column1</th><th>Date</th><th>Reddit Post Count</th><th>Upvote Sum</th><th>Company</th></tr><tr><th></th><th>Int64</th><th>Int64</th><th>Date…</th><th>Int64</th><th>Int64</th><th>String</th></tr></thead><tbody><p>64 rows × 10 columns (omitted printing of 4 columns)</p><tr><th>1</th><td>4213</td><td>0</td><td>0020-07-01</td><td>212</td><td>17198</td><td>AAPL</td></tr><tr><th>2</th><td>4361</td><td>1</td><td>0020-07-02</td><td>172</td><td>18516</td><td>AAPL</td></tr><tr><th>3</th><td>4372</td><td>2</td><td>0020-07-06</td><td>170</td><td>9617</td><td>AAPL</td></tr><tr><th>4</th><td>4451</td><td>3</td><td>0020-07-07</td><td>300</td><td>19666</td><td>AAPL</td></tr><tr><th>5</th><td>4235</td><td>4</td><td>0020-07-08</td><td>256</td><td>11261</td><td>AAPL</td></tr><tr><th>6</th><td>4317</td><td>5</td><td>0020-07-09</td><td>263</td><td>18116</td><td>AAPL</td></tr><tr><th>7</th><td>3689</td><td>6</td><td>0020-07-10</td><td>286</td><td>15810</td><td>AAPL</td></tr><tr><th>8</th><td>5710</td><td>7</td><td>0020-07-13</td><td>160</td><td>18535</td><td>AAPL</td></tr><tr><th>9</th><td>4313</td><td>8</td><td>0020-07-14</td><td>160</td><td>8528</td><td>AAPL</td></tr><tr><th>10</th><td>4690</td><td>9</td><td>0020-07-15</td><td>184</td><td>11501</td><td>AAPL</td></tr><tr><th>11</th><td>4105</td><td>10</td><td>0020-07-16</td><td>158</td><td>22996</td><td>AAPL</td></tr><tr><th>12</th><td>3577</td><td>11</td><td>0020-07-17</td><td>136</td><td>6440</td><td>AAPL</td></tr><tr><th>13</th><td>3864</td><td>12</td><td>0020-07-20</td><td>170</td><td>17712</td><td>AAPL</td></tr><tr><th>14</th><td>4616</td><td>13</td><td>0020-07-21</td><td>137</td><td>13434</td><td>AAPL</td></tr><tr><th>15</th><td>4012</td><td>14</td><td>0020-07-22</td><td>184</td><td>12079</td><td>AAPL</td></tr><tr><th>16</th><td>5850</td><td>15</td><td>0020-07-23</td><td>143</td><td>13099</td><td>AAPL</td></tr><tr><th>17</th><td>5465</td><td>16</td><td>0020-07-24</td><td>118</td><td>20063</td><td>AAPL</td></tr><tr><th>18</th><td>4877</td><td>17</td><td>0020-07-27</td><td>145</td><td>10244</td><td>AAPL</td></tr><tr><th>19</th><td>4064</td><td>18</td><td>0020-07-28</td><td>141</td><td>13516</td><td>AAPL</td></tr><tr><th>20</th><td>5410</td><td>19</td><td>0020-07-29</td><td>150</td><td>10075</td><td>AAPL</td></tr><tr><th>21</th><td>13900</td><td>20</td><td>0020-07-30</td><td>156</td><td>18520</td><td>AAPL</td></tr><tr><th>22</th><td>15382</td><td>21</td><td>0020-07-31</td><td>149</td><td>9805</td><td>AAPL</td></tr><tr><th>23</th><td>7732</td><td>22</td><td>0020-08-03</td><td>143</td><td>11399</td><td>AAPL</td></tr><tr><th>24</th><td>6428</td><td>23</td><td>0020-08-04</td><td>192</td><td>10543</td><td>AAPL</td></tr><tr><th>25</th><td>4317</td><td>24</td><td>0020-08-05</td><td>164</td><td>13467</td><td>AAPL</td></tr><tr><th>26</th><td>7037</td><td>25</td><td>0020-08-06</td><td>167</td><td>7693</td><td>AAPL</td></tr><tr><th>27</th><td>5710</td><td>26</td><td>0020-08-07</td><td>146</td><td>18042</td><td>AAPL</td></tr><tr><th>28</th><td>5385</td><td>27</td><td>0020-08-10</td><td>154</td><td>15801</td><td>AAPL</td></tr><tr><th>29</th><td>5509</td><td>28</td><td>0020-08-11</td><td>167</td><td>13268</td><td>AAPL</td></tr><tr><th>30</th><td>5226</td><td>29</td><td>0020-08-12</td><td>163</td><td>10717</td><td>AAPL</td></tr><tr><th>&vellip;</th><td>&vellip;</td><td>&vellip;</td><td>&vellip;</td><td>&vellip;</td><td>&vellip;</td><td>&vellip;</td></tr></tbody></table>"
      ],
      "text/latex": [
       "\\begin{tabular}{r|ccccccc}\n",
       "\t& Twitter Post Count & Column1 & Date & Reddit Post Count & Upvote Sum & Company & \\\\\n",
       "\t\\hline\n",
       "\t& Int64 & Int64 & Date… & Int64 & Int64 & String & \\\\\n",
       "\t\\hline\n",
       "\t1 & 4213 & 0 & 0020-07-01 & 212 & 17198 & AAPL & $\\dots$ \\\\\n",
       "\t2 & 4361 & 1 & 0020-07-02 & 172 & 18516 & AAPL & $\\dots$ \\\\\n",
       "\t3 & 4372 & 2 & 0020-07-06 & 170 & 9617 & AAPL & $\\dots$ \\\\\n",
       "\t4 & 4451 & 3 & 0020-07-07 & 300 & 19666 & AAPL & $\\dots$ \\\\\n",
       "\t5 & 4235 & 4 & 0020-07-08 & 256 & 11261 & AAPL & $\\dots$ \\\\\n",
       "\t6 & 4317 & 5 & 0020-07-09 & 263 & 18116 & AAPL & $\\dots$ \\\\\n",
       "\t7 & 3689 & 6 & 0020-07-10 & 286 & 15810 & AAPL & $\\dots$ \\\\\n",
       "\t8 & 5710 & 7 & 0020-07-13 & 160 & 18535 & AAPL & $\\dots$ \\\\\n",
       "\t9 & 4313 & 8 & 0020-07-14 & 160 & 8528 & AAPL & $\\dots$ \\\\\n",
       "\t10 & 4690 & 9 & 0020-07-15 & 184 & 11501 & AAPL & $\\dots$ \\\\\n",
       "\t11 & 4105 & 10 & 0020-07-16 & 158 & 22996 & AAPL & $\\dots$ \\\\\n",
       "\t12 & 3577 & 11 & 0020-07-17 & 136 & 6440 & AAPL & $\\dots$ \\\\\n",
       "\t13 & 3864 & 12 & 0020-07-20 & 170 & 17712 & AAPL & $\\dots$ \\\\\n",
       "\t14 & 4616 & 13 & 0020-07-21 & 137 & 13434 & AAPL & $\\dots$ \\\\\n",
       "\t15 & 4012 & 14 & 0020-07-22 & 184 & 12079 & AAPL & $\\dots$ \\\\\n",
       "\t16 & 5850 & 15 & 0020-07-23 & 143 & 13099 & AAPL & $\\dots$ \\\\\n",
       "\t17 & 5465 & 16 & 0020-07-24 & 118 & 20063 & AAPL & $\\dots$ \\\\\n",
       "\t18 & 4877 & 17 & 0020-07-27 & 145 & 10244 & AAPL & $\\dots$ \\\\\n",
       "\t19 & 4064 & 18 & 0020-07-28 & 141 & 13516 & AAPL & $\\dots$ \\\\\n",
       "\t20 & 5410 & 19 & 0020-07-29 & 150 & 10075 & AAPL & $\\dots$ \\\\\n",
       "\t21 & 13900 & 20 & 0020-07-30 & 156 & 18520 & AAPL & $\\dots$ \\\\\n",
       "\t22 & 15382 & 21 & 0020-07-31 & 149 & 9805 & AAPL & $\\dots$ \\\\\n",
       "\t23 & 7732 & 22 & 0020-08-03 & 143 & 11399 & AAPL & $\\dots$ \\\\\n",
       "\t24 & 6428 & 23 & 0020-08-04 & 192 & 10543 & AAPL & $\\dots$ \\\\\n",
       "\t25 & 4317 & 24 & 0020-08-05 & 164 & 13467 & AAPL & $\\dots$ \\\\\n",
       "\t26 & 7037 & 25 & 0020-08-06 & 167 & 7693 & AAPL & $\\dots$ \\\\\n",
       "\t27 & 5710 & 26 & 0020-08-07 & 146 & 18042 & AAPL & $\\dots$ \\\\\n",
       "\t28 & 5385 & 27 & 0020-08-10 & 154 & 15801 & AAPL & $\\dots$ \\\\\n",
       "\t29 & 5509 & 28 & 0020-08-11 & 167 & 13268 & AAPL & $\\dots$ \\\\\n",
       "\t30 & 5226 & 29 & 0020-08-12 & 163 & 10717 & AAPL & $\\dots$ \\\\\n",
       "\t$\\dots$ & $\\dots$ & $\\dots$ & $\\dots$ & $\\dots$ & $\\dots$ & $\\dots$ &  \\\\\n",
       "\\end{tabular}\n"
      ],
      "text/plain": [
       "64×10 DataFrame. Omitted printing of 6 columns\n",
       "│ Row │ Twitter Post Count │ Column1 │ Date       │ Reddit Post Count │\n",
       "│     │ \u001b[90mInt64\u001b[39m              │ \u001b[90mInt64\u001b[39m   │ \u001b[90mDates.Date\u001b[39m │ \u001b[90mInt64\u001b[39m             │\n",
       "├─────┼────────────────────┼─────────┼────────────┼───────────────────┤\n",
       "│ 1   │ 4213               │ 0       │ 0020-07-01 │ 212               │\n",
       "│ 2   │ 4361               │ 1       │ 0020-07-02 │ 172               │\n",
       "│ 3   │ 4372               │ 2       │ 0020-07-06 │ 170               │\n",
       "│ 4   │ 4451               │ 3       │ 0020-07-07 │ 300               │\n",
       "│ 5   │ 4235               │ 4       │ 0020-07-08 │ 256               │\n",
       "│ 6   │ 4317               │ 5       │ 0020-07-09 │ 263               │\n",
       "│ 7   │ 3689               │ 6       │ 0020-07-10 │ 286               │\n",
       "│ 8   │ 5710               │ 7       │ 0020-07-13 │ 160               │\n",
       "│ 9   │ 4313               │ 8       │ 0020-07-14 │ 160               │\n",
       "│ 10  │ 4690               │ 9       │ 0020-07-15 │ 184               │\n",
       "⋮\n",
       "│ 54  │ 6148               │ 53      │ 0020-09-16 │ 349               │\n",
       "│ 55  │ 5932               │ 54      │ 0020-09-17 │ 212               │\n",
       "│ 56  │ 11310              │ 55      │ 0020-09-18 │ 182               │\n",
       "│ 57  │ 7662               │ 56      │ 0020-09-21 │ 199               │\n",
       "│ 58  │ 6849               │ 57      │ 0020-09-22 │ 109               │\n",
       "│ 59  │ 5794               │ 58      │ 0020-09-23 │ 178               │\n",
       "│ 60  │ 6139               │ 59      │ 0020-09-24 │ 137               │\n",
       "│ 61  │ 6157               │ 60      │ 0020-09-25 │ 122               │\n",
       "│ 62  │ 4709               │ 61      │ 0020-09-28 │ 172               │\n",
       "│ 63  │ 4534               │ 62      │ 0020-09-29 │ 138               │\n",
       "│ 64  │ 4483               │ 63      │ 0020-09-30 │ 83                │"
      ]
     },
     "execution_count": 26,
     "metadata": {},
     "output_type": "execute_result"
    }
   ],
   "source": [
    "df = CSV.read(\"FinalDataSet.csv\")\n",
    "reddit = CSV.read(\"apple.csv\")\n",
    "twitter = df[(df[:Company] .== \"AAPL\"),:\"Twitter Post Count\"]\n",
    "\n",
    "apple = hcat(twitter, reddit)\n",
    "rename!(apple, Dict(:x1 => :\"Twitter Post Count\"))\n",
    "rename!(apple, Dict(:\"Post count\" => :\"Reddit Post Count\"))"
   ]
  },
  {
   "cell_type": "code",
   "execution_count": 27,
   "metadata": {},
   "outputs": [
    {
     "data": {
      "text/plain": [
       "38"
      ]
     },
     "execution_count": 27,
     "metadata": {},
     "output_type": "execute_result"
    }
   ],
   "source": [
    "data = apple[shuffle(1:end), :]\n",
    "\n",
    "train_proportion = 0.6\n",
    "n = size(data, 1)\n",
    "\n",
    "ntrain = convert(Int, round(train_proportion*n))\n",
    "\n",
    "target = data[:Returns]\n",
    "features = data[:, [:\"Reddit Post Count\", :\"Twitter Post Count\", :\"Upvote Sum\"]]\n",
    "\n",
    "train_x = features[1:ntrain, :]\n",
    "test_x = features[ntrain+1:end, :]\n",
    "train_y = target[1:ntrain]\n",
    "test_y = target[ntrain+1:end]\n",
    "\n",
    "ntrain"
   ]
  },
  {
   "cell_type": "code",
   "execution_count": 28,
   "metadata": {},
   "outputs": [
    {
     "data": {
      "text/plain": [
       "0.38461538461538464"
      ]
     },
     "execution_count": 28,
     "metadata": {},
     "output_type": "execute_result"
    }
   ],
   "source": [
    "X_train = [convert(Matrix, train_x) ones(ntrain)]\n",
    "X_test = [convert(Matrix, test_x) ones(size(test_x, 1))]\n",
    "\n",
    "ybool_train = (train_y .>= 0) \n",
    "ybool_test = (test_y .>= 0)\n",
    "\n",
    "n = size(ybool_test, 1)\n",
    "\n",
    "loss = 1/ntrain*LogisticLoss()\n",
    "λ = 0.1\n",
    "reg = λ*QuadReg()\n",
    "w = proxgrad(loss, reg, X_train, ybool_train, maxiters=200000, stepsize = 0.01)\n",
    "\n",
    "yhat = impute(loss, X_test*w)\n",
    "\n",
    "(n - sum(yhat .== ybool_test)) / n"
   ]
  },
  {
   "cell_type": "code",
   "execution_count": 29,
   "metadata": {},
   "outputs": [
    {
     "data": {
      "text/plain": [
       "4-element Array{Float64,1}:\n",
       "  0.003139169901690549\n",
       "  5.870991588185381e-5\n",
       " -3.4647989763126725e-5\n",
       " -6.71810662258157e-5"
      ]
     },
     "execution_count": 29,
     "metadata": {},
     "output_type": "execute_result"
    }
   ],
   "source": [
    "w"
   ]
  },
  {
   "cell_type": "code",
   "execution_count": 30,
   "metadata": {},
   "outputs": [
    {
     "data": {
      "text/plain": [
       "26×1 Array{Number,2}:\n",
       " false\n",
       "  true\n",
       "  true\n",
       "  true\n",
       "  true\n",
       "  true\n",
       " false\n",
       "  true\n",
       "  true\n",
       "  true\n",
       "  true\n",
       "  true\n",
       "  true\n",
       "  true\n",
       "  true\n",
       "  true\n",
       "  true\n",
       "  true\n",
       " false\n",
       "  true\n",
       "  true\n",
       "  true\n",
       "  true\n",
       "  true\n",
       "  true\n",
       "  true"
      ]
     },
     "execution_count": 30,
     "metadata": {},
     "output_type": "execute_result"
    }
   ],
   "source": [
    "yhat"
   ]
  },
  {
   "cell_type": "code",
   "execution_count": null,
   "metadata": {},
   "outputs": [],
   "source": []
  }
 ],
 "metadata": {
  "kernelspec": {
   "display_name": "Julia 1.5.1",
   "language": "julia",
   "name": "julia-1.5"
  },
  "language_info": {
   "file_extension": ".jl",
   "mimetype": "application/julia",
   "name": "julia",
   "version": "1.5.3"
  }
 },
 "nbformat": 4,
 "nbformat_minor": 4
}
