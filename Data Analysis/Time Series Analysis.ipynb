{
 "cells": [
  {
   "cell_type": "code",
   "execution_count": 1,
   "metadata": {},
   "outputs": [],
   "source": [
    "using Statistics, LinearAlgebra, Random, DataFrames, Plots, StatsPlots, CSV"
   ]
  },
  {
   "cell_type": "code",
   "execution_count": 72,
   "metadata": {},
   "outputs": [],
   "source": [
    "using Plots, Random, LinearAlgebra, Statistics, SparseArrays"
   ]
  },
  {
   "cell_type": "code",
   "execution_count": 69,
   "metadata": {},
   "outputs": [
    {
     "name": "stdout",
     "output_type": "stream",
     "text": [
      "\u001b[?25l\u001b[2K"
     ]
    },
    {
     "name": "stderr",
     "output_type": "stream",
     "text": [
      "\u001b[32m\u001b[1m   Updating\u001b[22m\u001b[39m git-repo `https://github.com/madeleineudell/LowRankModels.jl.git`\n"
     ]
    },
    {
     "name": "stdout",
     "output_type": "stream",
     "text": [
      "\u001b[?25h"
     ]
    },
    {
     "name": "stderr",
     "output_type": "stream",
     "text": [
      "\u001b[32m\u001b[1m  Resolving\u001b[22m\u001b[39m package versions...\n",
      "\u001b[32m\u001b[1mNo Changes\u001b[22m\u001b[39m to `~/.julia/environments/v1.5/Project.toml`\n",
      "\u001b[32m\u001b[1mNo Changes\u001b[22m\u001b[39m to `~/.julia/environments/v1.5/Manifest.toml`\n"
     ]
    },
    {
     "data": {
      "text/plain": [
       "proxgrad_const"
      ]
     },
     "execution_count": 69,
     "metadata": {},
     "output_type": "execute_result"
    }
   ],
   "source": [
    "using Pkg\n",
    "Pkg.add(Pkg.PackageSpec(name=\"LowRankModels\", rev=\"master\"))\n",
    "include(\"proxgrad.jl\")"
   ]
  },
  {
   "cell_type": "code",
   "execution_count": 3,
   "metadata": {},
   "outputs": [],
   "source": [
    "dt = CSV.read(\"FinalDataSet.csv\");"
   ]
  },
  {
   "cell_type": "code",
   "execution_count": 196,
   "metadata": {},
   "outputs": [],
   "source": [
    "fb = filter(row -> row[:Company] in [\"FB\"], dt)\n",
    "amzn = filter(row -> row[:Company] in [\"AMZN\"], dt)\n",
    "aapl = filter(row -> row[:Company] in [\"AAPL\"], dt)\n",
    "nflx = filter(row -> row[:Company] in [\"NFLX\"], dt)\n",
    "goog = filter(row -> row[:Company] in [\"GOOG\"], dt);"
   ]
  },
  {
   "cell_type": "markdown",
   "metadata": {},
   "source": [
    "# Facebook"
   ]
  },
  {
   "cell_type": "code",
   "execution_count": 109,
   "metadata": {},
   "outputs": [],
   "source": [
    "y = convert(Array, fb[23:64,:Open] .> fb[22:63,:Open])\n",
    "fb = convert(Matrix, fb[:, :])\n",
    "fb = [fb[:,3:4] fb[:, 6:10]]\n",
    "fb = convert(Array{Float64,2}, fb)\n",
    "X = fb[23:64,:];"
   ]
  },
  {
   "cell_type": "code",
   "execution_count": 151,
   "metadata": {},
   "outputs": [
    {
     "name": "stdout",
     "output_type": "stream",
     "text": [
      "Facebook classification rate = 0.42857142857142855"
     ]
    }
   ],
   "source": [
    "# Hinge Loss + QuadReg (λ = .1) on the whole dataset\n",
    "n = 42\n",
    "loss = 1/n * HingeLoss()\n",
    "λ = .1\n",
    "reg = λ*QuadReg()\n",
    "w = proxgrad(loss, reg, X, y, maxiters=100) \n",
    "yhat = impute(loss, X*w)\n",
    "fb_miss_rate = (n - sum(yhat .== y)) / n\n",
    "print(\"Facebook classification rate = \" * string(fb_miss_rate))"
   ]
  },
  {
   "cell_type": "code",
   "execution_count": 155,
   "metadata": {},
   "outputs": [],
   "source": [
    "# Creating Timeseries matrix\n",
    "X_ts = X\n",
    "for i in (1:22)\n",
    "    X_ts = [X_ts fb[23-i:64-i,:]]\n",
    "end"
   ]
  },
  {
   "cell_type": "code",
   "execution_count": 158,
   "metadata": {
    "scrolled": false
   },
   "outputs": [
    {
     "name": "stdout",
     "output_type": "stream",
     "text": [
      "Facebook classification rate of time series lag 1days = 0.42857142857142855\n",
      "Facebook classification rate of time series lag 5days = 0.40476190476190477\n",
      "Facebook classification rate of time series lag 10days = 0.2857142857142857\n",
      "Facebook classification rate of time series lag 15days = 0.23809523809523808\n",
      "Facebook classification rate of time series lag 22days = 0.23809523809523808\n"
     ]
    }
   ],
   "source": [
    "# Hinge Loss + QuadReg (λ = .1) for time series lags on 1, 5, 10, 15, 22 days on the whole dataset\n",
    "ts = [1 5 10 15 22]\n",
    "for i in (1:length(ts))\n",
    "    n = 42\n",
    "    loss = 1/n * HingeLoss()\n",
    "    λ = .1\n",
    "    reg = λ*QuadReg()\n",
    "    w = proxgrad(loss, reg, X_ts[:,1:(1+ts[i])*7], y, maxiters=100) \n",
    "    yhat = impute(loss, X_ts[:,1:(1+ts[i])*7]*w)\n",
    "    fb_miss_rate = (n - sum(yhat .== y)) / n\n",
    "    println(\"Facebook classification rate of time series lag \" * string(ts[i]) * \"days = \" * string(fb_miss_rate))\n",
    "end"
   ]
  },
  {
   "cell_type": "code",
   "execution_count": 178,
   "metadata": {},
   "outputs": [
    {
     "name": "stdout",
     "output_type": "stream",
     "text": [
      "Facebook classification rate on train set = 0.5714285714285714\n",
      "Facebook classification rate on test set = 0.5909090909090909"
     ]
    }
   ],
   "source": [
    "# Splitting dataset into train and test set\n",
    "X_train = X[1:21,:]\n",
    "y_train = y[1:21]\n",
    "X_test = X[21:42,:]\n",
    "y_test = y[21:42];\n",
    "n = 21\n",
    "loss = 1/n * HingeLoss()\n",
    "λ = .1\n",
    "reg = λ*QuadReg()\n",
    "w = proxgrad(loss, reg, X_train, y_train, maxiters=100) \n",
    "yhat_train = impute(loss, X_train*w)\n",
    "fb_miss_rate_train = (n - sum(yhat_train .== y_train)) / n\n",
    "yhat_test = impute(loss, X_test*w)\n",
    "fb_miss_rate_test = (n + 1 - sum(yhat_test .== y_test)) / (n + 1)\n",
    "println(\"Facebook classification rate on train set = \" * string(fb_miss_rate_train))\n",
    "print(\"Facebook classification rate on test set = \" * string(fb_miss_rate_test))"
   ]
  },
  {
   "cell_type": "code",
   "execution_count": 186,
   "metadata": {},
   "outputs": [
    {
     "name": "stdout",
     "output_type": "stream",
     "text": [
      "Facebook classification rate of time series lag on train set 1days = 0.5714285714285714\n",
      "Facebook classification rate of time series lag on test set 1days = 0.5909090909090909\n",
      "\n",
      "Facebook classification rate of time series lag on train set 5days = 0.23809523809523808\n",
      "Facebook classification rate of time series lag on test set 5days = 0.5909090909090909\n",
      "\n",
      "Facebook classification rate of time series lag on train set 10days = 0.09523809523809523\n",
      "Facebook classification rate of time series lag on test set 10days = 0.5454545454545454\n",
      "\n",
      "Facebook classification rate of time series lag on train set 15days = 0.14285714285714285\n",
      "Facebook classification rate of time series lag on test set 15days = 0.5454545454545454\n",
      "\n",
      "Facebook classification rate of time series lag on train set 22days = 0.09523809523809523\n",
      "Facebook classification rate of time series lag on test set 22days = 0.5909090909090909\n",
      "\n"
     ]
    }
   ],
   "source": [
    "# Hinge Loss + QuadReg (λ = .1) for time series lags on 1, 5, 10, 15, 22 days on the whole dataset\n",
    "ts = [1 5 10 15 22]\n",
    "X_train = X_ts[1:21,:]\n",
    "y_train = y[1:21]\n",
    "X_test = X_ts[21:42,:]\n",
    "y_test = y[21:42];\n",
    "for i in (1:length(ts))\n",
    "    n = 21\n",
    "    loss = 1/n * HingeLoss()\n",
    "    λ = .1\n",
    "    reg = λ*QuadReg()\n",
    "    w = proxgrad(loss, reg, X_train[:,1:(1+ts[i])*7], y_train, maxiters = 1000) \n",
    "    yhat_train = impute(loss, X_train[:,1:(1+ts[i])*7]*w)\n",
    "    fb_miss_rate_train = (n - sum(yhat_train .== y_train)) / n\n",
    "    yhat_test = impute(loss, X_test[:,1:(1+ts[i])*7]*w)\n",
    "    fb_miss_rate_test = (n + 1 - sum(yhat_test .== y_test)) / (n + 1)\n",
    "    println(\"Facebook classification rate of time series lag on train set \" * string(ts[i]) * \"days = \" * string(fb_miss_rate_train))\n",
    "    println(\"Facebook classification rate of time series lag on test set \" * string(ts[i]) * \"days = \" * string(fb_miss_rate_test))\n",
    "    println()\n",
    "end"
   ]
  },
  {
   "cell_type": "markdown",
   "metadata": {},
   "source": [
    "# Amazon"
   ]
  },
  {
   "cell_type": "code",
   "execution_count": 197,
   "metadata": {},
   "outputs": [],
   "source": [
    "y = convert(Array, amzn[23:64,:Open] .> amzn[22:63,:Open])\n",
    "amzn = convert(Matrix, amzn[:, :])\n",
    "amzn = [amzn[:,3:4] amzn[:, 6:10]]\n",
    "amzn = convert(Array{Float64,2}, amzn)\n",
    "X = amzn[23:64,:];"
   ]
  },
  {
   "cell_type": "code",
   "execution_count": 207,
   "metadata": {},
   "outputs": [
    {
     "name": "stdout",
     "output_type": "stream",
     "text": [
      "Amazon classification rate = 0.5"
     ]
    }
   ],
   "source": [
    "# Hinge Loss + QuadReg (λ = .1) on the whole dataset\n",
    "n = 42\n",
    "loss = 1/n * HingeLoss()\n",
    "λ = .1\n",
    "reg = λ*QuadReg()\n",
    "w = proxgrad(loss, reg, X, y, maxiters=100) \n",
    "yhat = impute(loss, X*w)\n",
    "amzn_miss_rate = (n - sum(yhat .== y)) / n\n",
    "print(\"Amazon classification rate = \" * string(amzn_miss_rate))"
   ]
  },
  {
   "cell_type": "code",
   "execution_count": 208,
   "metadata": {},
   "outputs": [],
   "source": [
    "# Creating Timeseries matrix\n",
    "X_ts = X\n",
    "for i in (1:22)\n",
    "    X_ts = [X_ts amzn[23-i:64-i,:]]\n",
    "end"
   ]
  },
  {
   "cell_type": "code",
   "execution_count": 209,
   "metadata": {},
   "outputs": [
    {
     "name": "stdout",
     "output_type": "stream",
     "text": [
      "Amazon classification rate of time series lag 1days = 0.5\n",
      "Amazon classification rate of time series lag 5days = 0.42857142857142855\n",
      "Amazon classification rate of time series lag 10days = 0.30952380952380953\n",
      "Amazon classification rate of time series lag 15days = 0.3333333333333333\n",
      "Amazon classification rate of time series lag 22days = 0.30952380952380953\n"
     ]
    }
   ],
   "source": [
    "# Hinge Loss + QuadReg (λ = .1) for time series lags on 1, 5, 10, 15, 22 days on the whole dataset\n",
    "ts = [1 5 10 15 22]\n",
    "for i in (1:length(ts))\n",
    "    n = 42\n",
    "    loss = 1/n * HingeLoss()\n",
    "    λ = .1\n",
    "    reg = λ*QuadReg()\n",
    "    w = proxgrad(loss, reg, X_ts[:,1:(1+ts[i])*7], y, maxiters=100) \n",
    "    yhat = impute(loss, X_ts[:,1:(1+ts[i])*7]*w)\n",
    "    amzn_miss_rate = (n - sum(yhat .== y)) / n\n",
    "    println(\"Amazon classification rate of time series lag \" * string(ts[i]) * \"days = \" * string(amzn_miss_rate))\n",
    "end"
   ]
  },
  {
   "cell_type": "code",
   "execution_count": 210,
   "metadata": {},
   "outputs": [
    {
     "name": "stdout",
     "output_type": "stream",
     "text": [
      "Amazon classification rate on train set = 0.5238095238095238\n",
      "Amazon classification rate on test set = 0.5"
     ]
    }
   ],
   "source": [
    "# Splitting dataset into train and test set\n",
    "X_train = X[1:21,:]\n",
    "y_train = y[1:21]\n",
    "X_test = X[21:42,:]\n",
    "y_test = y[21:42];\n",
    "n = 21\n",
    "loss = 1/n * HingeLoss()\n",
    "λ = .1\n",
    "reg = λ*QuadReg()\n",
    "w = proxgrad(loss, reg, X_train, y_train, maxiters=100) \n",
    "yhat_train = impute(loss, X_train*w)\n",
    "amzn_miss_rate_train = (n - sum(yhat_train .== y_train)) / n\n",
    "yhat_test = impute(loss, X_test*w)\n",
    "amzn_miss_rate_test = (n + 1 - sum(yhat_test .== y_test)) / (n + 1)\n",
    "println(\"Amazon classification rate on train set = \" * string(amzn_miss_rate_train))\n",
    "print(\"Amazon classification rate on test set = \" * string(amzn_miss_rate_test))"
   ]
  },
  {
   "cell_type": "code",
   "execution_count": 211,
   "metadata": {},
   "outputs": [
    {
     "name": "stdout",
     "output_type": "stream",
     "text": [
      "Amazon classification rate of time series lag on train set 1days = 0.38095238095238093\n",
      "Amazon classification rate of time series lag on test set 1days = 0.5454545454545454\n",
      "\n",
      "Amazon classification rate of time series lag on train set 5days = 0.2857142857142857\n",
      "Amazon classification rate of time series lag on test set 5days = 0.5\n",
      "\n",
      "Amazon classification rate of time series lag on train set 10days = 0.14285714285714285\n",
      "Amazon classification rate of time series lag on test set 10days = 0.45454545454545453\n",
      "\n",
      "Amazon classification rate of time series lag on train set 15days = 0.23809523809523808\n",
      "Amazon classification rate of time series lag on test set 15days = 0.5454545454545454\n",
      "\n",
      "Amazon classification rate of time series lag on train set 22days = 0.47619047619047616\n",
      "Amazon classification rate of time series lag on test set 22days = 0.5\n",
      "\n"
     ]
    }
   ],
   "source": [
    "# Hinge Loss + QuadReg (λ = .1) for time series lags on 1, 5, 10, 15, 22 days on the whole dataset\n",
    "ts = [1 5 10 15 22]\n",
    "X_train = X_ts[1:21,:]\n",
    "y_train = y[1:21]\n",
    "X_test = X_ts[21:42,:]\n",
    "y_test = y[21:42];\n",
    "for i in (1:length(ts))\n",
    "    n = 21\n",
    "    loss = 1/n * HingeLoss()\n",
    "    λ = .1\n",
    "    reg = λ*QuadReg()\n",
    "    w = proxgrad(loss, reg, X_train[:,1:(1+ts[i])*7], y_train, maxiters = 1000) \n",
    "    yhat_train = impute(loss, X_train[:,1:(1+ts[i])*7]*w)\n",
    "    fb_miss_rate_train = (n - sum(yhat_train .== y_train)) / n\n",
    "    yhat_test = impute(loss, X_test[:,1:(1+ts[i])*7]*w)\n",
    "    fb_miss_rate_test = (n + 1 - sum(yhat_test .== y_test)) / (n + 1)\n",
    "    println(\"Amazon classification rate of time series lag on train set \" * string(ts[i]) * \"days = \" * string(fb_miss_rate_train))\n",
    "    println(\"Amazon classification rate of time series lag on test set \" * string(ts[i]) * \"days = \" * string(fb_miss_rate_test))\n",
    "    println()\n",
    "end"
   ]
  },
  {
   "cell_type": "markdown",
   "metadata": {},
   "source": [
    "# Apple"
   ]
  },
  {
   "cell_type": "code",
   "execution_count": 212,
   "metadata": {},
   "outputs": [],
   "source": [
    "y = convert(Array, aapl[23:64,:Open] .> aapl[22:63,:Open])\n",
    "aapl = convert(Matrix, aapl[:, :])\n",
    "aapl = [aapl[:,3:4] aapl[:, 6:10]]\n",
    "aapl = convert(Array{Float64,2}, aapl)\n",
    "X = aapl[23:64,:];"
   ]
  },
  {
   "cell_type": "code",
   "execution_count": 226,
   "metadata": {},
   "outputs": [
    {
     "name": "stdout",
     "output_type": "stream",
     "text": [
      "Apple classification rate = 0.5"
     ]
    }
   ],
   "source": [
    "# Hinge Loss + QuadReg (λ = .1) on the whole dataset\n",
    "n = 42\n",
    "loss = 1/n * HingeLoss()\n",
    "λ = 0.1\n",
    "reg = λ*QuadReg()\n",
    "w = proxgrad(loss, reg, X, y, maxiters=100) \n",
    "yhat = impute(loss, X*w)\n",
    "aapl_miss_rate = (n - sum(yhat .== y)) / n\n",
    "print(\"Apple classification rate = \" * string(aapl_miss_rate))"
   ]
  },
  {
   "cell_type": "code",
   "execution_count": 231,
   "metadata": {},
   "outputs": [],
   "source": [
    "# Creating Timeseries matrix\n",
    "X_ts = X\n",
    "for i in (1:22)\n",
    "    X_ts = [X_ts aapl[23-i:64-i,:]]\n",
    "end"
   ]
  },
  {
   "cell_type": "code",
   "execution_count": 232,
   "metadata": {},
   "outputs": [
    {
     "name": "stdout",
     "output_type": "stream",
     "text": [
      "Apple classification rate of time series lag 1days = 0.5\n",
      "Apple classification rate of time series lag 5days = 0.5\n",
      "Apple classification rate of time series lag 10days = 0.38095238095238093\n",
      "Apple classification rate of time series lag 15days = 0.30952380952380953\n",
      "Apple classification rate of time series lag 22days = 0.23809523809523808\n"
     ]
    }
   ],
   "source": [
    "# Hinge Loss + QuadReg (λ = .1) for time series lags on 1, 5, 10, 15, 22 days on the whole dataset\n",
    "ts = [1 5 10 15 22]\n",
    "for i in (1:length(ts))\n",
    "    n = 42\n",
    "    loss = 1/n * HingeLoss()\n",
    "    λ = .1\n",
    "    reg = λ*QuadReg()\n",
    "    w = proxgrad(loss, reg, X_ts[:,1:(1+ts[i])*7], y, maxiters=100) \n",
    "    yhat = impute(loss, X_ts[:,1:(1+ts[i])*7]*w)\n",
    "    amzn_miss_rate = (n - sum(yhat .== y)) / n\n",
    "    println(\"Apple classification rate of time series lag \" * string(ts[i]) * \"days = \" * string(amzn_miss_rate))\n",
    "end"
   ]
  },
  {
   "cell_type": "code",
   "execution_count": 233,
   "metadata": {},
   "outputs": [
    {
     "name": "stdout",
     "output_type": "stream",
     "text": [
      "Apple classification rate on train set = 0.38095238095238093\n",
      "Apple classification rate on test set = 0.5909090909090909"
     ]
    }
   ],
   "source": [
    "# Splitting dataset into train and test set\n",
    "X_train = X[1:21,:]\n",
    "y_train = y[1:21]\n",
    "X_test = X[21:42,:]\n",
    "y_test = y[21:42];\n",
    "n = 21\n",
    "loss = 1/n * HingeLoss()\n",
    "λ = .1\n",
    "reg = λ*QuadReg()\n",
    "w = proxgrad(loss, reg, X_train, y_train, maxiters=100) \n",
    "yhat_train = impute(loss, X_train*w)\n",
    "amzn_miss_rate_train = (n - sum(yhat_train .== y_train)) / n\n",
    "yhat_test = impute(loss, X_test*w)\n",
    "amzn_miss_rate_test = (n + 1 - sum(yhat_test .== y_test)) / (n + 1)\n",
    "println(\"Apple classification rate on train set = \" * string(amzn_miss_rate_train))\n",
    "print(\"Apple classification rate on test set = \" * string(amzn_miss_rate_test))"
   ]
  },
  {
   "cell_type": "code",
   "execution_count": 234,
   "metadata": {},
   "outputs": [
    {
     "name": "stdout",
     "output_type": "stream",
     "text": [
      "Apple classification rate of time series lag on train set 1days = 0.38095238095238093\n",
      "Apple classification rate of time series lag on test set 1days = 0.5909090909090909\n",
      "\n",
      "Apple classification rate of time series lag on train set 5days = 0.38095238095238093\n",
      "Apple classification rate of time series lag on test set 5days = 0.5909090909090909\n",
      "\n",
      "Apple classification rate of time series lag on train set 10days = 0.38095238095238093\n",
      "Apple classification rate of time series lag on test set 10days = 0.5909090909090909\n",
      "\n",
      "Apple classification rate of time series lag on train set 15days = 0.38095238095238093\n",
      "Apple classification rate of time series lag on test set 15days = 0.5909090909090909\n",
      "\n",
      "Apple classification rate of time series lag on train set 22days = 0.38095238095238093\n",
      "Apple classification rate of time series lag on test set 22days = 0.5909090909090909\n",
      "\n"
     ]
    }
   ],
   "source": [
    "# Hinge Loss + QuadReg (λ = .1) for time series lags on 1, 5, 10, 15, 22 days on the whole dataset\n",
    "ts = [1 5 10 15 22]\n",
    "X_train = X_ts[1:21,:]\n",
    "y_train = y[1:21]\n",
    "X_test = X_ts[21:42,:]\n",
    "y_test = y[21:42];\n",
    "for i in (1:length(ts))\n",
    "    n = 21\n",
    "    loss = 1/n * HingeLoss()\n",
    "    λ = .1\n",
    "    reg = λ*QuadReg()\n",
    "    w = proxgrad(loss, reg, X_train[:,1:(1+ts[i])*7], y_train, maxiters = 1000) \n",
    "    yhat_train = impute(loss, X_train[:,1:(1+ts[i])*7]*w)\n",
    "    fb_miss_rate_train = (n - sum(yhat_train .== y_train)) / n\n",
    "    yhat_test = impute(loss, X_test[:,1:(1+ts[i])*7]*w)\n",
    "    fb_miss_rate_test = (n + 1 - sum(yhat_test .== y_test)) / (n + 1)\n",
    "    println(\"Apple classification rate of time series lag on train set \" * string(ts[i]) * \"days = \" * string(fb_miss_rate_train))\n",
    "    println(\"Apple classification rate of time series lag on test set \" * string(ts[i]) * \"days = \" * string(fb_miss_rate_test))\n",
    "    println()\n",
    "end"
   ]
  },
  {
   "cell_type": "markdown",
   "metadata": {},
   "source": [
    "# Netflix"
   ]
  },
  {
   "cell_type": "code",
   "execution_count": 235,
   "metadata": {},
   "outputs": [],
   "source": [
    "y = convert(Array, nflx[23:64,:Open] .> nflx[22:63,:Open])\n",
    "nflx = convert(Matrix, nflx[:, :])\n",
    "nflx = [nflx[:,3:4] nflx[:, 6:10]]\n",
    "nflx = convert(Array{Float64,2}, nflx)\n",
    "X = nflx[23:64,:];"
   ]
  },
  {
   "cell_type": "code",
   "execution_count": 237,
   "metadata": {},
   "outputs": [
    {
     "name": "stdout",
     "output_type": "stream",
     "text": [
      "Netflix classification rate = 0.5"
     ]
    }
   ],
   "source": [
    "# Hinge Loss + QuadReg (λ = .1) on the whole dataset\n",
    "n = 42\n",
    "loss = 1/n * HingeLoss()\n",
    "λ = 0.1\n",
    "reg = λ*QuadReg()\n",
    "w = proxgrad(loss, reg, X, y, maxiters=100) \n",
    "yhat = impute(loss, X*w)\n",
    "aapl_miss_rate = (n - sum(yhat .== y)) / n\n",
    "print(\"Netflix classification rate = \" * string(aapl_miss_rate))"
   ]
  },
  {
   "cell_type": "code",
   "execution_count": 238,
   "metadata": {},
   "outputs": [],
   "source": [
    "# Creating Timeseries matrix\n",
    "X_ts = X\n",
    "for i in (1:22)\n",
    "    X_ts = [X_ts nflx[23-i:64-i,:]]\n",
    "end"
   ]
  },
  {
   "cell_type": "code",
   "execution_count": 239,
   "metadata": {},
   "outputs": [
    {
     "name": "stdout",
     "output_type": "stream",
     "text": [
      "Netflix classification rate of time series lag 1days = 0.5\n",
      "Netflix classification rate of time series lag 5days = 0.42857142857142855\n",
      "Netflix classification rate of time series lag 10days = 0.40476190476190477\n",
      "Netflix classification rate of time series lag 15days = 0.30952380952380953\n",
      "Netflix classification rate of time series lag 22days = 0.2619047619047619\n"
     ]
    }
   ],
   "source": [
    "# Hinge Loss + QuadReg (λ = .1) for time series lags on 1, 5, 10, 15, 22 days on the whole dataset\n",
    "ts = [1 5 10 15 22]\n",
    "for i in (1:length(ts))\n",
    "    n = 42\n",
    "    loss = 1/n * HingeLoss()\n",
    "    λ = .1\n",
    "    reg = λ*QuadReg()\n",
    "    w = proxgrad(loss, reg, X_ts[:,1:(1+ts[i])*7], y, maxiters=100) \n",
    "    yhat = impute(loss, X_ts[:,1:(1+ts[i])*7]*w)\n",
    "    amzn_miss_rate = (n - sum(yhat .== y)) / n\n",
    "    println(\"Netflix classification rate of time series lag \" * string(ts[i]) * \"days = \" * string(amzn_miss_rate))\n",
    "end"
   ]
  },
  {
   "cell_type": "code",
   "execution_count": 240,
   "metadata": {},
   "outputs": [
    {
     "name": "stdout",
     "output_type": "stream",
     "text": [
      "Netflix classification rate on train set = 0.47619047619047616\n",
      "Netflix classification rate on test set = 0.5454545454545454"
     ]
    }
   ],
   "source": [
    "# Splitting dataset into train and test set\n",
    "X_train = X[1:21,:]\n",
    "y_train = y[1:21]\n",
    "X_test = X[21:42,:]\n",
    "y_test = y[21:42];\n",
    "n = 21\n",
    "loss = 1/n * HingeLoss()\n",
    "λ = .1\n",
    "reg = λ*QuadReg()\n",
    "w = proxgrad(loss, reg, X_train, y_train, maxiters=100) \n",
    "yhat_train = impute(loss, X_train*w)\n",
    "amzn_miss_rate_train = (n - sum(yhat_train .== y_train)) / n\n",
    "yhat_test = impute(loss, X_test*w)\n",
    "amzn_miss_rate_test = (n + 1 - sum(yhat_test .== y_test)) / (n + 1)\n",
    "println(\"Netflix classification rate on train set = \" * string(amzn_miss_rate_train))\n",
    "print(\"Netflix classification rate on test set = \" * string(amzn_miss_rate_test))"
   ]
  },
  {
   "cell_type": "code",
   "execution_count": 241,
   "metadata": {},
   "outputs": [
    {
     "name": "stdout",
     "output_type": "stream",
     "text": [
      "Netflix classification rate of time series lag on train set 1days = 0.47619047619047616\n",
      "Netflix classification rate of time series lag on test set 1days = 0.5454545454545454\n",
      "\n",
      "Netflix classification rate of time series lag on train set 5days = 0.38095238095238093\n",
      "Netflix classification rate of time series lag on test set 5days = 0.5\n",
      "\n",
      "Netflix classification rate of time series lag on train set 10days = 0.38095238095238093\n",
      "Netflix classification rate of time series lag on test set 10days = 0.5\n",
      "\n",
      "Netflix classification rate of time series lag on train set 15days = 0.38095238095238093\n",
      "Netflix classification rate of time series lag on test set 15days = 0.5\n",
      "\n",
      "Netflix classification rate of time series lag on train set 22days = 0.23809523809523808\n",
      "Netflix classification rate of time series lag on test set 22days = 0.5\n",
      "\n"
     ]
    }
   ],
   "source": [
    "# Hinge Loss + QuadReg (λ = .1) for time series lags on 1, 5, 10, 15, 22 days on the whole dataset\n",
    "ts = [1 5 10 15 22]\n",
    "X_train = X_ts[1:21,:]\n",
    "y_train = y[1:21]\n",
    "X_test = X_ts[21:42,:]\n",
    "y_test = y[21:42];\n",
    "for i in (1:length(ts))\n",
    "    n = 21\n",
    "    loss = 1/n * HingeLoss()\n",
    "    λ = .1\n",
    "    reg = λ*QuadReg()\n",
    "    w = proxgrad(loss, reg, X_train[:,1:(1+ts[i])*7], y_train, maxiters = 1000) \n",
    "    yhat_train = impute(loss, X_train[:,1:(1+ts[i])*7]*w)\n",
    "    fb_miss_rate_train = (n - sum(yhat_train .== y_train)) / n\n",
    "    yhat_test = impute(loss, X_test[:,1:(1+ts[i])*7]*w)\n",
    "    fb_miss_rate_test = (n + 1 - sum(yhat_test .== y_test)) / (n + 1)\n",
    "    println(\"Netflix classification rate of time series lag on train set \" * string(ts[i]) * \"days = \" * string(fb_miss_rate_train))\n",
    "    println(\"Netflix classification rate of time series lag on test set \" * string(ts[i]) * \"days = \" * string(fb_miss_rate_test))\n",
    "    println()\n",
    "end"
   ]
  },
  {
   "cell_type": "markdown",
   "metadata": {},
   "source": [
    "# Google"
   ]
  },
  {
   "cell_type": "code",
   "execution_count": 242,
   "metadata": {},
   "outputs": [],
   "source": [
    "y = convert(Array, goog[23:64,:Open] .> goog[22:63,:Open])\n",
    "goog = convert(Matrix, goog[:, :])\n",
    "goog = [goog[:,3:4] goog[:, 6:10]]\n",
    "goog = convert(Array{Float64,2}, goog)\n",
    "X = goog[23:64,:];"
   ]
  },
  {
   "cell_type": "code",
   "execution_count": 243,
   "metadata": {},
   "outputs": [
    {
     "name": "stdout",
     "output_type": "stream",
     "text": [
      "Google classification rate = 0.4523809523809524"
     ]
    }
   ],
   "source": [
    "# Hinge Loss + QuadReg (λ = .1) on the whole dataset\n",
    "n = 42\n",
    "loss = 1/n * HingeLoss()\n",
    "λ = 0.1\n",
    "reg = λ*QuadReg()\n",
    "w = proxgrad(loss, reg, X, y, maxiters=100) \n",
    "yhat = impute(loss, X*w)\n",
    "aapl_miss_rate = (n - sum(yhat .== y)) / n\n",
    "print(\"Google classification rate = \" * string(aapl_miss_rate))"
   ]
  },
  {
   "cell_type": "code",
   "execution_count": 244,
   "metadata": {},
   "outputs": [],
   "source": [
    "# Creating Timeseries matrix\n",
    "X_ts = X\n",
    "for i in (1:22)\n",
    "    X_ts = [X_ts goog[23-i:64-i,:]]\n",
    "end"
   ]
  },
  {
   "cell_type": "code",
   "execution_count": 245,
   "metadata": {},
   "outputs": [
    {
     "name": "stdout",
     "output_type": "stream",
     "text": [
      "Google classification rate of time series lag 1days = 0.4523809523809524\n",
      "Google classification rate of time series lag 5days = 0.4523809523809524\n",
      "Google classification rate of time series lag 10days = 0.42857142857142855\n",
      "Google classification rate of time series lag 15days = 0.4523809523809524\n",
      "Google classification rate of time series lag 22days = 0.4523809523809524\n"
     ]
    }
   ],
   "source": [
    "# Hinge Loss + QuadReg (λ = .1) for time series lags on 1, 5, 10, 15, 22 days on the whole dataset\n",
    "ts = [1 5 10 15 22]\n",
    "for i in (1:length(ts))\n",
    "    n = 42\n",
    "    loss = 1/n * HingeLoss()\n",
    "    λ = .1\n",
    "    reg = λ*QuadReg()\n",
    "    w = proxgrad(loss, reg, X_ts[:,1:(1+ts[i])*7], y, maxiters=100) \n",
    "    yhat = impute(loss, X_ts[:,1:(1+ts[i])*7]*w)\n",
    "    amzn_miss_rate = (n - sum(yhat .== y)) / n\n",
    "    println(\"Google classification rate of time series lag \" * string(ts[i]) * \"days = \" * string(amzn_miss_rate))\n",
    "end"
   ]
  },
  {
   "cell_type": "code",
   "execution_count": 247,
   "metadata": {},
   "outputs": [
    {
     "name": "stdout",
     "output_type": "stream",
     "text": [
      "Google classification rate on train set = 0.42857142857142855\n",
      "Google classification rate on test set = 0.45454545454545453"
     ]
    }
   ],
   "source": [
    "# Splitting dataset into train and test set\n",
    "X_train = X[1:21,:]\n",
    "y_train = y[1:21]\n",
    "X_test = X[21:42,:]\n",
    "y_test = y[21:42];\n",
    "n = 21\n",
    "loss = 1/n * HingeLoss()\n",
    "λ = .1\n",
    "reg = λ*QuadReg()\n",
    "w = proxgrad(loss, reg, X_train, y_train, maxiters=100) \n",
    "yhat_train = impute(loss, X_train*w)\n",
    "amzn_miss_rate_train = (n - sum(yhat_train .== y_train)) / n\n",
    "yhat_test = impute(loss, X_test*w)\n",
    "amzn_miss_rate_test = (n + 1 - sum(yhat_test .== y_test)) / (n + 1)\n",
    "println(\"Google classification rate on train set = \" * string(amzn_miss_rate_train))\n",
    "print(\"Google classification rate on test set = \" * string(amzn_miss_rate_test))"
   ]
  },
  {
   "cell_type": "code",
   "execution_count": 248,
   "metadata": {},
   "outputs": [
    {
     "name": "stdout",
     "output_type": "stream",
     "text": [
      "Google classification rate of time series lag on train set 1days = 0.42857142857142855\n",
      "Google classification rate of time series lag on test set 1days = 0.5\n",
      "\n",
      "Google classification rate of time series lag on train set 5days = 0.19047619047619047\n",
      "Google classification rate of time series lag on test set 5days = 0.5\n",
      "\n",
      "Google classification rate of time series lag on train set 10days = 0.3333333333333333\n",
      "Google classification rate of time series lag on test set 10days = 0.5909090909090909\n",
      "\n",
      "Google classification rate of time series lag on train set 15days = 0.42857142857142855\n",
      "Google classification rate of time series lag on test set 15days = 0.45454545454545453\n",
      "\n",
      "Google classification rate of time series lag on train set 22days = 0.0\n",
      "Google classification rate of time series lag on test set 22days = 0.45454545454545453\n",
      "\n"
     ]
    }
   ],
   "source": [
    "# Hinge Loss + QuadReg (λ = .1) for time series lags on 1, 5, 10, 15, 22 days on the whole dataset\n",
    "ts = [1 5 10 15 22]\n",
    "X_train = X_ts[1:21,:]\n",
    "y_train = y[1:21]\n",
    "X_test = X_ts[21:42,:]\n",
    "y_test = y[21:42];\n",
    "for i in (1:length(ts))\n",
    "    n = 21\n",
    "    loss = 1/n * HingeLoss()\n",
    "    λ = .1\n",
    "    reg = λ*QuadReg()\n",
    "    w = proxgrad(loss, reg, X_train[:,1:(1+ts[i])*7], y_train, maxiters = 1000) \n",
    "    yhat_train = impute(loss, X_train[:,1:(1+ts[i])*7]*w)\n",
    "    fb_miss_rate_train = (n - sum(yhat_train .== y_train)) / n\n",
    "    yhat_test = impute(loss, X_test[:,1:(1+ts[i])*7]*w)\n",
    "    fb_miss_rate_test = (n + 1 - sum(yhat_test .== y_test)) / (n + 1)\n",
    "    println(\"Google classification rate of time series lag on train set \" * string(ts[i]) * \"days = \" * string(fb_miss_rate_train))\n",
    "    println(\"Google classification rate of time series lag on test set \" * string(ts[i]) * \"days = \" * string(fb_miss_rate_test))\n",
    "    println()\n",
    "end"
   ]
  }
 ],
 "metadata": {
  "kernelspec": {
   "display_name": "Julia 1.5.1",
   "language": "julia",
   "name": "julia-1.5"
  },
  "language_info": {
   "file_extension": ".jl",
   "mimetype": "application/julia",
   "name": "julia",
   "version": "1.5.1"
  }
 },
 "nbformat": 4,
 "nbformat_minor": 2
}
