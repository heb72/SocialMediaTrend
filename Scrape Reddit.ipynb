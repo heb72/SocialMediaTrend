{
 "cells": [
  {
   "cell_type": "code",
   "execution_count": 22,
   "metadata": {},
   "outputs": [],
   "source": [
    "import praw\n",
    "import requests\n",
    "import time\n",
    "\n",
    "reddit = praw.Reddit(\n",
    "    client_id=\"JfSqEOisN3NJYA\",\n",
    "    client_secret=\"gTIly8BtRRIAtAFXDC49gDPR9_k\",\n",
    "    user_agent=\"my user agent\")"
   ]
  },
  {
   "cell_type": "code",
   "execution_count": 23,
   "metadata": {},
   "outputs": [
    {
     "name": "stdout",
     "output_type": "stream",
     "text": [
      "True\n"
     ]
    }
   ],
   "source": [
    "print(reddit.read_only)  # Output: True"
   ]
  },
  {
   "cell_type": "code",
   "execution_count": 24,
   "metadata": {},
   "outputs": [],
   "source": [
    "def submissions_pushshift_praw(subreddit, start=None, end=None, limit=100, extra_query=\"\"):\n",
    "    \"\"\"\n",
    "    A simple function that returns a list of PRAW submission objects during a particular period from a defined sub.\n",
    "    This function serves as a replacement for the now deprecated PRAW `submissions()` method.\n",
    "    \n",
    "    :param subreddit: A subreddit name to fetch submissions from.\n",
    "    :param start: A Unix time integer. Posts fetched will be AFTER this time. (default: None)\n",
    "    :param end: A Unix time integer. Posts fetched will be BEFORE this time. (default: None)\n",
    "    :param limit: There needs to be a defined limit of results (default: 100), or Pushshift will return only 25.\n",
    "    :param extra_query: A query string is optional. If an extra_query string is not supplied, \n",
    "                        the function will just grab everything from the defined time period. (default: empty string)\n",
    "    \n",
    "    Submissions are yielded newest first.\n",
    "    \n",
    "    For more information on PRAW, see: https://github.com/praw-dev/praw \n",
    "    For more information on Pushshift, see: https://github.com/pushshift/api\n",
    "    \"\"\"\n",
    "    matching_praw_submissions = []\n",
    "    \n",
    "    # Default time values if none are defined (credit to u/bboe's PRAW `submissions()` for this section)\n",
    "    utc_offset = 28800\n",
    "    now = int(time.time())\n",
    "    start = max(int(start) + utc_offset if start else 0, 0)\n",
    "    end = min(int(end) if end else now, now) + utc_offset\n",
    "    \n",
    "    # Format our search link properly.\n",
    "    search_link = ('https://api.pushshift.io/reddit/submission/search/'\n",
    "                   '?subreddit={}&after={}&before={}&sort_type=score&sort=asc&limit={}&q={}')\n",
    "    search_link = search_link.format(subreddit, start, end, limit, extra_query)\n",
    "    \n",
    "    # Get the data from Pushshift as JSON.\n",
    "    retrieved_data = requests.get(search_link)\n",
    "    returned_submissions = retrieved_data.json()['data']\n",
    "    \n",
    "    # Iterate over the returned submissions to convert them to PRAW submission objects.\n",
    "    for submission in returned_submissions:\n",
    "        \n",
    "        # Take the ID, fetch the PRAW submission object, and append to our list\n",
    "        praw_submission = reddit.submission(id=submission['id'])\n",
    "        matching_praw_submissions.append(praw_submission)\n",
    "     \n",
    "    # Return all PRAW submissions that were obtained.\n",
    "    return matching_praw_submissions"
   ]
  },
  {
   "cell_type": "code",
   "execution_count": 27,
   "metadata": {},
   "outputs": [
    {
     "name": "stdout",
     "output_type": "stream",
     "text": [
      "APPL market cap calculation question\n",
      "1\n",
      "i9d1ns\n",
      "https://www.reddit.com/r/investing/comments/i9d1ns/appl_market_cap_calculation_question/\n",
      "1597369694.0\n",
      "Impact of $NHF converting to REIT ?\n",
      "1\n",
      "ikft28\n",
      "https://www.reddit.com/r/investing/comments/ikft28/impact_of_nhf_converting_to_reit/\n",
      "1598944644.0\n",
      "Need Investing Advice. Should I invest a lump sum into an ETF like SPY, or average it out over a period of time?\n",
      "1\n",
      "i577wj\n",
      "https://www.reddit.com/r/investing/comments/i577wj/need_investing_advice_should_i_invest_a_lump_sum/\n",
      "1596774088.0\n",
      "Investing advice for a noob 💵\n",
      "0\n",
      "ijczgs\n",
      "https://www.reddit.com/r/investing/comments/ijczgs/investing_advice_for_a_noob/\n",
      "1598795573.0\n",
      "Any female investors here?\n",
      "0\n",
      "ikg3pe\n",
      "https://www.reddit.com/r/investing/comments/ikg3pe/any_female_investors_here/\n",
      "1598946305.0\n"
     ]
    }
   ],
   "source": [
    "for submission in submissions_pushshift_praw('investing', 1596240000, 1598918400, limit = 5):\n",
    "    print(submission.title)\n",
    "    print(submission.score)\n",
    "    print(submission.id)\n",
    "    print(submission.url)\n",
    "    print(submission.created_utc)"
   ]
  },
  {
   "cell_type": "code",
   "execution_count": 17,
   "metadata": {},
   "outputs": [],
   "source": [
    "submission = reddit.submission(id=\"jhofgz\")\n",
    "submission.comment_sort = \"new\"\n",
    "top_level_comments = list(submission.comments)"
   ]
  },
  {
   "cell_type": "code",
   "execution_count": 18,
   "metadata": {},
   "outputs": [
    {
     "name": "stdout",
     "output_type": "stream",
     "text": [
      "[Comment(id='ga0kmdq'), Comment(id='ga2p79t'), Comment(id='ga2p5ie'), Comment(id='ga2o9yt'), Comment(id='ga2nmx5'), Comment(id='ga2m9hh'), Comment(id='ga2m1by'), Comment(id='ga2ly77'), Comment(id='ga2jovv'), Comment(id='ga2jfpl'), Comment(id='ga2ivub'), Comment(id='ga2ii8y'), Comment(id='ga2ie98'), Comment(id='ga2gxgv'), Comment(id='ga2gwne'), Comment(id='ga2gvv9'), Comment(id='ga2e7ta'), Comment(id='ga2cqs3'), Comment(id='ga2buvn'), Comment(id='ga2assg'), Comment(id='ga2aik2'), Comment(id='ga2a770'), Comment(id='ga29m5h'), Comment(id='ga28jme'), Comment(id='ga2855y'), Comment(id='ga27kdr'), Comment(id='ga26gtl'), Comment(id='ga25l46'), Comment(id='ga25aas'), Comment(id='ga253eb'), Comment(id='ga23xz9'), Comment(id='ga20i5g'), Comment(id='ga1zfcb'), Comment(id='ga1ye6p'), Comment(id='ga1xzrv'), Comment(id='ga1xul6'), Comment(id='ga1xtf6'), Comment(id='ga1xs6o'), Comment(id='ga1xl6v'), Comment(id='ga1x14d'), Comment(id='ga1wv7f'), Comment(id='ga1wsnp'), Comment(id='ga1rrbo'), Comment(id='ga1rbrs'), Comment(id='ga1qmpr'), Comment(id='ga1ptxi'), Comment(id='ga1pr71'), Comment(id='ga1pjn6'), Comment(id='ga1org1'), Comment(id='ga1oeje'), Comment(id='ga1o6dw'), Comment(id='ga1lgfg'), Comment(id='ga1krtt'), Comment(id='ga1j9gj'), Comment(id='ga1g3a0'), Comment(id='ga1emz7'), Comment(id='ga1e4nd'), Comment(id='ga1dpuj'), Comment(id='ga1dnt0'), Comment(id='ga1d34m'), Comment(id='ga1d1cd'), Comment(id='ga1cypt'), Comment(id='ga1arrx'), Comment(id='ga1aieo'), Comment(id='ga19sr2'), Comment(id='ga17xlp'), Comment(id='ga17bse'), Comment(id='ga16tus'), Comment(id='ga14dea'), Comment(id='ga13yi7'), Comment(id='ga0zsjo'), Comment(id='ga0zbo1'), Comment(id='ga0wsg3'), Comment(id='ga0va5m'), Comment(id='ga0u304'), Comment(id='ga0rutm'), Comment(id='ga0rr34'), Comment(id='ga0rg8r'), Comment(id='ga0r8jg'), Comment(id='ga0pt34'), Comment(id='ga0p2nf'), Comment(id='ga0oyzm'), Comment(id='ga0mfrn')]\n"
     ]
    }
   ],
   "source": [
    "print(top_level_comments)"
   ]
  },
  {
   "cell_type": "code",
   "execution_count": null,
   "metadata": {},
   "outputs": [],
   "source": []
  }
 ],
 "metadata": {
  "kernelspec": {
   "display_name": "Python 3",
   "language": "python",
   "name": "python3"
  },
  "language_info": {
   "codemirror_mode": {
    "name": "ipython",
    "version": 3
   },
   "file_extension": ".py",
   "mimetype": "text/x-python",
   "name": "python",
   "nbconvert_exporter": "python",
   "pygments_lexer": "ipython3",
   "version": "3.6.10"
  }
 },
 "nbformat": 4,
 "nbformat_minor": 4
}
